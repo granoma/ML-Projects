{
 "cells": [
  {
   "cell_type": "markdown",
   "metadata": {},
   "source": [
    "<b>Inroduction</b><br>\n",
    "\n",
    "The insurance company wants to perform several tasks. Each task is based in the preceding one.\n",
    "\n",
    "- 1) Find customers who are similar to a given customer.\n",
    "- 2) Predict whether a new customer is likely to receive an insurance benefit (using the technique from task 1). \n",
    "- 3) Predict the number of insurance benefits a new customer is likely to receive, using a linear regression model (and based on the KNN techinque used previously).\n",
    "- 4) Protect clients' personal data without impacting the model from the previous task. For this task, we need to develop a data transformation algorithm that would make it hard to recover personal information in case the data fell into the wrong hands. This is called data obfuscation. However, this obfuscation should not impact the quality of predictions made by the ML model. We need to prove that the obfuscating algorithm works correctly."
   ]
  },
  {
   "cell_type": "markdown",
   "metadata": {},
   "source": [
    "## Data Preprocessing & Exploration\n",
    "### Import Libraries"
   ]
  },
  {
   "cell_type": "code",
   "execution_count": 1,
   "metadata": {
    "ExecuteTime": {
     "end_time": "2022-02-14T10:35:47.121318Z",
     "start_time": "2022-02-14T10:35:45.290213Z"
    }
   },
   "outputs": [],
   "source": [
    "# general libraries\n",
    "import numpy as np\n",
    "import pandas as pd\n",
    "import math\n",
    "from IPython.display import display\n",
    "\n",
    "# graphing librarires\n",
    "import seaborn as sns\n",
    "import matplotlib.pyplot as plt\n",
    "\n",
    "# sklearn libraries\n",
    "import sklearn.linear_model\n",
    "import sklearn.metrics\n",
    "import sklearn.neighbors\n",
    "import sklearn.preprocessing\n",
    "from sklearn.neighbors import NearestNeighbors\n",
    "from sklearn.neighbors import KNeighborsClassifier\n",
    "from sklearn.metrics import f1_score\n",
    "from sklearn.model_selection import train_test_split"
   ]
  },
  {
   "cell_type": "markdown",
   "metadata": {},
   "source": [
    "### Load Data"
   ]
  },
  {
   "cell_type": "markdown",
   "metadata": {},
   "source": [
    "Load data and conduct a basic check that it's free from obvious issues."
   ]
  },
  {
   "cell_type": "code",
   "execution_count": 2,
   "metadata": {
    "ExecuteTime": {
     "end_time": "2022-02-14T10:35:47.152277Z",
     "start_time": "2022-02-14T10:35:47.124310Z"
    }
   },
   "outputs": [],
   "source": [
    "df = pd.read_csv('insurance_us.csv')"
   ]
  },
  {
   "cell_type": "markdown",
   "metadata": {},
   "source": [
    "We rename the colums to make the code look more consistent with its style."
   ]
  },
  {
   "cell_type": "code",
   "execution_count": 3,
   "metadata": {
    "ExecuteTime": {
     "end_time": "2022-02-14T10:35:47.168203Z",
     "start_time": "2022-02-14T10:35:47.156237Z"
    }
   },
   "outputs": [],
   "source": [
    "# rename columns\n",
    "df = df.rename(columns={'Gender': 'gender', 'Age': 'age', 'Salary': 'income', 'Family members': 'family_members', 'Insurance benefits': 'insurance_benefits'})"
   ]
  },
  {
   "cell_type": "markdown",
   "metadata": {},
   "source": [
    "### Display Data"
   ]
  },
  {
   "cell_type": "code",
   "execution_count": 4,
   "metadata": {
    "ExecuteTime": {
     "end_time": "2022-02-14T10:35:47.199121Z",
     "start_time": "2022-02-14T10:35:47.171194Z"
    }
   },
   "outputs": [
    {
     "data": {
      "text/html": [
       "<div>\n",
       "<style scoped>\n",
       "    .dataframe tbody tr th:only-of-type {\n",
       "        vertical-align: middle;\n",
       "    }\n",
       "\n",
       "    .dataframe tbody tr th {\n",
       "        vertical-align: top;\n",
       "    }\n",
       "\n",
       "    .dataframe thead th {\n",
       "        text-align: right;\n",
       "    }\n",
       "</style>\n",
       "<table border=\"1\" class=\"dataframe\">\n",
       "  <thead>\n",
       "    <tr style=\"text-align: right;\">\n",
       "      <th></th>\n",
       "      <th>gender</th>\n",
       "      <th>age</th>\n",
       "      <th>income</th>\n",
       "      <th>family_members</th>\n",
       "      <th>insurance_benefits</th>\n",
       "    </tr>\n",
       "  </thead>\n",
       "  <tbody>\n",
       "    <tr>\n",
       "      <th>4008</th>\n",
       "      <td>1</td>\n",
       "      <td>22.0</td>\n",
       "      <td>28700.0</td>\n",
       "      <td>1</td>\n",
       "      <td>0</td>\n",
       "    </tr>\n",
       "    <tr>\n",
       "      <th>3476</th>\n",
       "      <td>0</td>\n",
       "      <td>25.0</td>\n",
       "      <td>43400.0</td>\n",
       "      <td>0</td>\n",
       "      <td>0</td>\n",
       "    </tr>\n",
       "    <tr>\n",
       "      <th>899</th>\n",
       "      <td>0</td>\n",
       "      <td>36.0</td>\n",
       "      <td>34600.0</td>\n",
       "      <td>3</td>\n",
       "      <td>0</td>\n",
       "    </tr>\n",
       "    <tr>\n",
       "      <th>4540</th>\n",
       "      <td>0</td>\n",
       "      <td>42.0</td>\n",
       "      <td>41600.0</td>\n",
       "      <td>1</td>\n",
       "      <td>1</td>\n",
       "    </tr>\n",
       "    <tr>\n",
       "      <th>3903</th>\n",
       "      <td>1</td>\n",
       "      <td>24.0</td>\n",
       "      <td>48400.0</td>\n",
       "      <td>0</td>\n",
       "      <td>0</td>\n",
       "    </tr>\n",
       "    <tr>\n",
       "      <th>4211</th>\n",
       "      <td>0</td>\n",
       "      <td>29.0</td>\n",
       "      <td>40800.0</td>\n",
       "      <td>3</td>\n",
       "      <td>0</td>\n",
       "    </tr>\n",
       "    <tr>\n",
       "      <th>895</th>\n",
       "      <td>1</td>\n",
       "      <td>33.0</td>\n",
       "      <td>40300.0</td>\n",
       "      <td>2</td>\n",
       "      <td>0</td>\n",
       "    </tr>\n",
       "    <tr>\n",
       "      <th>216</th>\n",
       "      <td>0</td>\n",
       "      <td>32.0</td>\n",
       "      <td>42200.0</td>\n",
       "      <td>1</td>\n",
       "      <td>0</td>\n",
       "    </tr>\n",
       "    <tr>\n",
       "      <th>4992</th>\n",
       "      <td>0</td>\n",
       "      <td>45.0</td>\n",
       "      <td>54600.0</td>\n",
       "      <td>0</td>\n",
       "      <td>1</td>\n",
       "    </tr>\n",
       "    <tr>\n",
       "      <th>2616</th>\n",
       "      <td>0</td>\n",
       "      <td>31.0</td>\n",
       "      <td>40700.0</td>\n",
       "      <td>0</td>\n",
       "      <td>0</td>\n",
       "    </tr>\n",
       "  </tbody>\n",
       "</table>\n",
       "</div>"
      ],
      "text/plain": [
       "      gender   age   income  family_members  insurance_benefits\n",
       "4008       1  22.0  28700.0               1                   0\n",
       "3476       0  25.0  43400.0               0                   0\n",
       "899        0  36.0  34600.0               3                   0\n",
       "4540       0  42.0  41600.0               1                   1\n",
       "3903       1  24.0  48400.0               0                   0\n",
       "4211       0  29.0  40800.0               3                   0\n",
       "895        1  33.0  40300.0               2                   0\n",
       "216        0  32.0  42200.0               1                   0\n",
       "4992       0  45.0  54600.0               0                   1\n",
       "2616       0  31.0  40700.0               0                   0"
      ]
     },
     "execution_count": 4,
     "metadata": {},
     "output_type": "execute_result"
    }
   ],
   "source": [
    "# display a sample of the data\n",
    "df.sample(10)"
   ]
  },
  {
   "cell_type": "code",
   "execution_count": 39,
   "metadata": {
    "ExecuteTime": {
     "end_time": "2022-02-15T11:02:24.580284Z",
     "start_time": "2022-02-15T11:02:24.544380Z"
    }
   },
   "outputs": [
    {
     "name": "stdout",
     "output_type": "stream",
     "text": [
      "<class 'pandas.core.frame.DataFrame'>\n",
      "RangeIndex: 5000 entries, 0 to 4999\n",
      "Data columns (total 6 columns):\n",
      " #   Column                       Non-Null Count  Dtype  \n",
      "---  ------                       --------------  -----  \n",
      " 0   gender                       5000 non-null   int64  \n",
      " 1   age                          5000 non-null   float64\n",
      " 2   income                       5000 non-null   float64\n",
      " 3   family_members               5000 non-null   int64  \n",
      " 4   insurance_benefits           5000 non-null   int64  \n",
      " 5   insurance_benefits_received  5000 non-null   int64  \n",
      "dtypes: float64(2), int64(4)\n",
      "memory usage: 234.5 KB\n"
     ]
    }
   ],
   "source": [
    "# display information about the dataframe and its columns\n",
    "df.info()"
   ]
  },
  {
   "cell_type": "code",
   "execution_count": 6,
   "metadata": {
    "ExecuteTime": {
     "end_time": "2022-02-14T10:35:47.276911Z",
     "start_time": "2022-02-14T10:35:47.233031Z"
    }
   },
   "outputs": [
    {
     "data": {
      "text/html": [
       "<div>\n",
       "<style scoped>\n",
       "    .dataframe tbody tr th:only-of-type {\n",
       "        vertical-align: middle;\n",
       "    }\n",
       "\n",
       "    .dataframe tbody tr th {\n",
       "        vertical-align: top;\n",
       "    }\n",
       "\n",
       "    .dataframe thead th {\n",
       "        text-align: right;\n",
       "    }\n",
       "</style>\n",
       "<table border=\"1\" class=\"dataframe\">\n",
       "  <thead>\n",
       "    <tr style=\"text-align: right;\">\n",
       "      <th></th>\n",
       "      <th>gender</th>\n",
       "      <th>age</th>\n",
       "      <th>income</th>\n",
       "      <th>family_members</th>\n",
       "      <th>insurance_benefits</th>\n",
       "    </tr>\n",
       "  </thead>\n",
       "  <tbody>\n",
       "    <tr>\n",
       "      <th>count</th>\n",
       "      <td>5000.000000</td>\n",
       "      <td>5000.000000</td>\n",
       "      <td>5000.000000</td>\n",
       "      <td>5000.000000</td>\n",
       "      <td>5000.000000</td>\n",
       "    </tr>\n",
       "    <tr>\n",
       "      <th>mean</th>\n",
       "      <td>0.499000</td>\n",
       "      <td>30.952800</td>\n",
       "      <td>39916.360000</td>\n",
       "      <td>1.194200</td>\n",
       "      <td>0.148000</td>\n",
       "    </tr>\n",
       "    <tr>\n",
       "      <th>std</th>\n",
       "      <td>0.500049</td>\n",
       "      <td>8.440807</td>\n",
       "      <td>9900.083569</td>\n",
       "      <td>1.091387</td>\n",
       "      <td>0.463183</td>\n",
       "    </tr>\n",
       "    <tr>\n",
       "      <th>min</th>\n",
       "      <td>0.000000</td>\n",
       "      <td>18.000000</td>\n",
       "      <td>5300.000000</td>\n",
       "      <td>0.000000</td>\n",
       "      <td>0.000000</td>\n",
       "    </tr>\n",
       "    <tr>\n",
       "      <th>25%</th>\n",
       "      <td>0.000000</td>\n",
       "      <td>24.000000</td>\n",
       "      <td>33300.000000</td>\n",
       "      <td>0.000000</td>\n",
       "      <td>0.000000</td>\n",
       "    </tr>\n",
       "    <tr>\n",
       "      <th>50%</th>\n",
       "      <td>0.000000</td>\n",
       "      <td>30.000000</td>\n",
       "      <td>40200.000000</td>\n",
       "      <td>1.000000</td>\n",
       "      <td>0.000000</td>\n",
       "    </tr>\n",
       "    <tr>\n",
       "      <th>75%</th>\n",
       "      <td>1.000000</td>\n",
       "      <td>37.000000</td>\n",
       "      <td>46600.000000</td>\n",
       "      <td>2.000000</td>\n",
       "      <td>0.000000</td>\n",
       "    </tr>\n",
       "    <tr>\n",
       "      <th>max</th>\n",
       "      <td>1.000000</td>\n",
       "      <td>65.000000</td>\n",
       "      <td>79000.000000</td>\n",
       "      <td>6.000000</td>\n",
       "      <td>5.000000</td>\n",
       "    </tr>\n",
       "  </tbody>\n",
       "</table>\n",
       "</div>"
      ],
      "text/plain": [
       "            gender          age        income  family_members  \\\n",
       "count  5000.000000  5000.000000   5000.000000     5000.000000   \n",
       "mean      0.499000    30.952800  39916.360000        1.194200   \n",
       "std       0.500049     8.440807   9900.083569        1.091387   \n",
       "min       0.000000    18.000000   5300.000000        0.000000   \n",
       "25%       0.000000    24.000000  33300.000000        0.000000   \n",
       "50%       0.000000    30.000000  40200.000000        1.000000   \n",
       "75%       1.000000    37.000000  46600.000000        2.000000   \n",
       "max       1.000000    65.000000  79000.000000        6.000000   \n",
       "\n",
       "       insurance_benefits  \n",
       "count         5000.000000  \n",
       "mean             0.148000  \n",
       "std              0.463183  \n",
       "min              0.000000  \n",
       "25%              0.000000  \n",
       "50%              0.000000  \n",
       "75%              0.000000  \n",
       "max              5.000000  "
      ]
     },
     "execution_count": 6,
     "metadata": {},
     "output_type": "execute_result"
    }
   ],
   "source": [
    "# the data's descriptive statistics\n",
    "df.describe()"
   ]
  },
  {
   "cell_type": "markdown",
   "metadata": {},
   "source": [
    "- In the insurance benefits column, the mean is 0.148, whereas the max is 5. This may indicate that the max value is an outlier.\n",
    "- Also in the column of family members we see that the mean is 1.19, whereas the max is 6.\n",
    "- In the income column the mean is almost 40k, the max is 79k, but the min is 5300."
   ]
  },
  {
   "cell_type": "markdown",
   "metadata": {},
   "source": [
    "### EDA"
   ]
  },
  {
   "cell_type": "markdown",
   "metadata": {},
   "source": [
    "#### Features Histogram"
   ]
  },
  {
   "cell_type": "code",
   "execution_count": 7,
   "metadata": {
    "ExecuteTime": {
     "end_time": "2022-02-14T10:35:48.469969Z",
     "start_time": "2022-02-14T10:35:47.279416Z"
    }
   },
   "outputs": [
    {
     "data": {
      "image/png": "[encoded data removed]",
      "text/plain": [
       "<Figure size 864x864 with 6 Axes>"
      ]
     },
     "metadata": {
      "needs_background": "light"
     },
     "output_type": "display_data"
    }
   ],
   "source": [
    "df.hist(bins = 30, edgecolor='black', linewidth=1.2, figsize=(12,12));"
   ]
  },
  {
   "cell_type": "markdown",
   "metadata": {},
   "source": [
    "- The age column is right skewed\n",
    "- The family members column is rught skewed, and the number 6 hardly exists\n",
    "- Note that in the insurance_benefits column, which will be the base of our target column, there are mostly values of 0\n",
    "- The income column is normally distributed\n",
    "- The gender column is binary, and both values are equally distributed."
   ]
  },
  {
   "cell_type": "markdown",
   "metadata": {},
   "source": [
    "#### Insurance Benefits Distribution"
   ]
  },
  {
   "cell_type": "code",
   "execution_count": 8,
   "metadata": {
    "ExecuteTime": {
     "end_time": "2022-02-14T10:35:48.532799Z",
     "start_time": "2022-02-14T10:35:48.474955Z"
    }
   },
   "outputs": [
    {
     "name": "stdout",
     "output_type": "stream",
     "text": [
      "The share of values in the insurance benefits columns, in precentage:\n",
      " 0    88.72\n",
      "1     8.46\n",
      "2     2.30\n",
      "3     0.36\n",
      "4     0.14\n",
      "5     0.02\n",
      "Name: insurance_benefits, dtype: float64\n"
     ]
    }
   ],
   "source": [
    "print('The share of values in the insurance benefits columns, in precentage:\\n',df['insurance_benefits'].\\\n",
    "      value_counts(normalize=True)*100)"
   ]
  },
  {
   "cell_type": "markdown",
   "metadata": {},
   "source": [
    "- Indeed, there are 88.72% of zeros in the target."
   ]
  },
  {
   "cell_type": "markdown",
   "metadata": {},
   "source": [
    "#### Features Correlations"
   ]
  },
  {
   "cell_type": "code",
   "execution_count": 9,
   "metadata": {
    "ExecuteTime": {
     "end_time": "2022-02-14T10:35:48.988275Z",
     "start_time": "2022-02-14T10:35:48.535791Z"
    }
   },
   "outputs": [
    {
     "data": {
      "image/png": "[encoded data removed]",
      "text/plain": [
       "<Figure size 432x288 with 2 Axes>"
      ]
     },
     "metadata": {
      "needs_background": "light"
     },
     "output_type": "display_data"
    }
   ],
   "source": [
    "#checking correlations\n",
    "ax = plt.axes()\n",
    "sns.heatmap(df.corr(), cmap='Blues', annot=True)\n",
    "ax.set_title('Features Correlations')\n",
    "plt.show();"
   ]
  },
  {
   "cell_type": "markdown",
   "metadata": {},
   "source": [
    "- We see a correlation between age and insurance benefits, suggesting that age impacts the benefits. This makes sense for several reasons, the main one is that older people have more things they want to ensure."
   ]
  },
  {
   "cell_type": "markdown",
   "metadata": {},
   "source": [
    "## Four Tasks\n",
    "### Task 1: Find Similar Customers"
   ]
  },
  {
   "cell_type": "code",
   "execution_count": 10,
   "metadata": {
    "ExecuteTime": {
     "end_time": "2022-02-14T10:35:49.003734Z",
     "start_time": "2022-02-14T10:35:48.991259Z"
    }
   },
   "outputs": [],
   "source": [
    "feature_names = ['gender', 'age', 'income', 'family_members']"
   ]
  },
  {
   "cell_type": "code",
   "execution_count": 11,
   "metadata": {
    "ExecuteTime": {
     "end_time": "2022-02-14T10:35:49.019692Z",
     "start_time": "2022-02-14T10:35:49.006733Z"
    }
   },
   "outputs": [],
   "source": [
    "def get_knn(df, n, k, metric):\n",
    "    \n",
    "    \"\"\"\n",
    "    Returns k nearest neighbors\n",
    "    df: pandas DataFrame used to find similar objects within\n",
    "    n: object no for which the nearest neighbours are looked for\n",
    "    k: the number of the nearest neighbours to return\n",
    "    metric: name of distance metric\n",
    "    \"\"\"\n",
    "\n",
    "    nbrs = NearestNeighbors(n_neighbors = k, metric=metric) \n",
    "    nbrs.fit(df.values)\n",
    "    \n",
    "    nbrs_distances, nbrs_indices = nbrs.kneighbors([df.iloc[n][feature_names]], k, return_distance=True)\n",
    "    \n",
    "    df_res = pd.concat([\n",
    "        df.iloc[nbrs_indices[0]], \n",
    "        pd.DataFrame(nbrs_distances.T, index=nbrs_indices[0], columns=['distance'])\n",
    "        ], axis=1)\n",
    "    \n",
    "    return df_res"
   ]
  },
  {
   "cell_type": "markdown",
   "metadata": {},
   "source": [
    "#### KNN without Scaling"
   ]
  },
  {
   "cell_type": "code",
   "execution_count": 40,
   "metadata": {
    "ExecuteTime": {
     "end_time": "2022-02-15T11:04:36.349067Z",
     "start_time": "2022-02-15T11:04:36.290214Z"
    }
   },
   "outputs": [
    {
     "name": "stdout",
     "output_type": "stream",
     "text": [
      "KNN Without Scaling\n",
      "--------------------\n",
      "Euclidean Distances\n"
     ]
    },
    {
     "data": {
      "text/html": [
       "<div>\n",
       "<style scoped>\n",
       "    .dataframe tbody tr th:only-of-type {\n",
       "        vertical-align: middle;\n",
       "    }\n",
       "\n",
       "    .dataframe tbody tr th {\n",
       "        vertical-align: top;\n",
       "    }\n",
       "\n",
       "    .dataframe thead th {\n",
       "        text-align: right;\n",
       "    }\n",
       "</style>\n",
       "<table border=\"1\" class=\"dataframe\">\n",
       "  <thead>\n",
       "    <tr style=\"text-align: right;\">\n",
       "      <th></th>\n",
       "      <th>gender</th>\n",
       "      <th>age</th>\n",
       "      <th>income</th>\n",
       "      <th>family_members</th>\n",
       "      <th>distance</th>\n",
       "    </tr>\n",
       "  </thead>\n",
       "  <tbody>\n",
       "    <tr>\n",
       "      <th>1500</th>\n",
       "      <td>1</td>\n",
       "      <td>25.0</td>\n",
       "      <td>35600.0</td>\n",
       "      <td>2</td>\n",
       "      <td>0.000000</td>\n",
       "    </tr>\n",
       "    <tr>\n",
       "      <th>4734</th>\n",
       "      <td>1</td>\n",
       "      <td>27.0</td>\n",
       "      <td>35600.0</td>\n",
       "      <td>1</td>\n",
       "      <td>2.236068</td>\n",
       "    </tr>\n",
       "    <tr>\n",
       "      <th>179</th>\n",
       "      <td>0</td>\n",
       "      <td>27.0</td>\n",
       "      <td>35600.0</td>\n",
       "      <td>1</td>\n",
       "      <td>2.449490</td>\n",
       "    </tr>\n",
       "    <tr>\n",
       "      <th>4718</th>\n",
       "      <td>0</td>\n",
       "      <td>24.0</td>\n",
       "      <td>35600.0</td>\n",
       "      <td>0</td>\n",
       "      <td>2.449490</td>\n",
       "    </tr>\n",
       "    <tr>\n",
       "      <th>910</th>\n",
       "      <td>1</td>\n",
       "      <td>23.0</td>\n",
       "      <td>35600.0</td>\n",
       "      <td>0</td>\n",
       "      <td>2.828427</td>\n",
       "    </tr>\n",
       "    <tr>\n",
       "      <th>3191</th>\n",
       "      <td>0</td>\n",
       "      <td>27.0</td>\n",
       "      <td>35600.0</td>\n",
       "      <td>4</td>\n",
       "      <td>3.000000</td>\n",
       "    </tr>\n",
       "    <tr>\n",
       "      <th>3276</th>\n",
       "      <td>1</td>\n",
       "      <td>28.0</td>\n",
       "      <td>35600.0</td>\n",
       "      <td>3</td>\n",
       "      <td>3.162278</td>\n",
       "    </tr>\n",
       "    <tr>\n",
       "      <th>3953</th>\n",
       "      <td>1</td>\n",
       "      <td>22.0</td>\n",
       "      <td>35600.0</td>\n",
       "      <td>1</td>\n",
       "      <td>3.162278</td>\n",
       "    </tr>\n",
       "    <tr>\n",
       "      <th>949</th>\n",
       "      <td>0</td>\n",
       "      <td>28.0</td>\n",
       "      <td>35600.0</td>\n",
       "      <td>1</td>\n",
       "      <td>3.316625</td>\n",
       "    </tr>\n",
       "    <tr>\n",
       "      <th>829</th>\n",
       "      <td>0</td>\n",
       "      <td>21.0</td>\n",
       "      <td>35600.0</td>\n",
       "      <td>2</td>\n",
       "      <td>4.123106</td>\n",
       "    </tr>\n",
       "  </tbody>\n",
       "</table>\n",
       "</div>"
      ],
      "text/plain": [
       "      gender   age   income  family_members  distance\n",
       "1500       1  25.0  35600.0               2  0.000000\n",
       "4734       1  27.0  35600.0               1  2.236068\n",
       "179        0  27.0  35600.0               1  2.449490\n",
       "4718       0  24.0  35600.0               0  2.449490\n",
       "910        1  23.0  35600.0               0  2.828427\n",
       "3191       0  27.0  35600.0               4  3.000000\n",
       "3276       1  28.0  35600.0               3  3.162278\n",
       "3953       1  22.0  35600.0               1  3.162278\n",
       "949        0  28.0  35600.0               1  3.316625\n",
       "829        0  21.0  35600.0               2  4.123106"
      ]
     },
     "metadata": {},
     "output_type": "display_data"
    },
    {
     "name": "stdout",
     "output_type": "stream",
     "text": [
      "\n",
      "Manhattan Distances\n"
     ]
    },
    {
     "data": {
      "text/html": [
       "<div>\n",
       "<style scoped>\n",
       "    .dataframe tbody tr th:only-of-type {\n",
       "        vertical-align: middle;\n",
       "    }\n",
       "\n",
       "    .dataframe tbody tr th {\n",
       "        vertical-align: top;\n",
       "    }\n",
       "\n",
       "    .dataframe thead th {\n",
       "        text-align: right;\n",
       "    }\n",
       "</style>\n",
       "<table border=\"1\" class=\"dataframe\">\n",
       "  <thead>\n",
       "    <tr style=\"text-align: right;\">\n",
       "      <th></th>\n",
       "      <th>gender</th>\n",
       "      <th>age</th>\n",
       "      <th>income</th>\n",
       "      <th>family_members</th>\n",
       "      <th>distance</th>\n",
       "    </tr>\n",
       "  </thead>\n",
       "  <tbody>\n",
       "    <tr>\n",
       "      <th>1500</th>\n",
       "      <td>1</td>\n",
       "      <td>25.0</td>\n",
       "      <td>35600.0</td>\n",
       "      <td>2</td>\n",
       "      <td>0.0</td>\n",
       "    </tr>\n",
       "    <tr>\n",
       "      <th>4734</th>\n",
       "      <td>1</td>\n",
       "      <td>27.0</td>\n",
       "      <td>35600.0</td>\n",
       "      <td>1</td>\n",
       "      <td>3.0</td>\n",
       "    </tr>\n",
       "    <tr>\n",
       "      <th>4718</th>\n",
       "      <td>0</td>\n",
       "      <td>24.0</td>\n",
       "      <td>35600.0</td>\n",
       "      <td>0</td>\n",
       "      <td>4.0</td>\n",
       "    </tr>\n",
       "    <tr>\n",
       "      <th>910</th>\n",
       "      <td>1</td>\n",
       "      <td>23.0</td>\n",
       "      <td>35600.0</td>\n",
       "      <td>0</td>\n",
       "      <td>4.0</td>\n",
       "    </tr>\n",
       "    <tr>\n",
       "      <th>3276</th>\n",
       "      <td>1</td>\n",
       "      <td>28.0</td>\n",
       "      <td>35600.0</td>\n",
       "      <td>3</td>\n",
       "      <td>4.0</td>\n",
       "    </tr>\n",
       "    <tr>\n",
       "      <th>3953</th>\n",
       "      <td>1</td>\n",
       "      <td>22.0</td>\n",
       "      <td>35600.0</td>\n",
       "      <td>1</td>\n",
       "      <td>4.0</td>\n",
       "    </tr>\n",
       "    <tr>\n",
       "      <th>179</th>\n",
       "      <td>0</td>\n",
       "      <td>27.0</td>\n",
       "      <td>35600.0</td>\n",
       "      <td>1</td>\n",
       "      <td>4.0</td>\n",
       "    </tr>\n",
       "    <tr>\n",
       "      <th>949</th>\n",
       "      <td>0</td>\n",
       "      <td>28.0</td>\n",
       "      <td>35600.0</td>\n",
       "      <td>1</td>\n",
       "      <td>5.0</td>\n",
       "    </tr>\n",
       "    <tr>\n",
       "      <th>3191</th>\n",
       "      <td>0</td>\n",
       "      <td>27.0</td>\n",
       "      <td>35600.0</td>\n",
       "      <td>4</td>\n",
       "      <td>5.0</td>\n",
       "    </tr>\n",
       "    <tr>\n",
       "      <th>829</th>\n",
       "      <td>0</td>\n",
       "      <td>21.0</td>\n",
       "      <td>35600.0</td>\n",
       "      <td>2</td>\n",
       "      <td>5.0</td>\n",
       "    </tr>\n",
       "  </tbody>\n",
       "</table>\n",
       "</div>"
      ],
      "text/plain": [
       "      gender   age   income  family_members  distance\n",
       "1500       1  25.0  35600.0               2       0.0\n",
       "4734       1  27.0  35600.0               1       3.0\n",
       "4718       0  24.0  35600.0               0       4.0\n",
       "910        1  23.0  35600.0               0       4.0\n",
       "3276       1  28.0  35600.0               3       4.0\n",
       "3953       1  22.0  35600.0               1       4.0\n",
       "179        0  27.0  35600.0               1       4.0\n",
       "949        0  28.0  35600.0               1       5.0\n",
       "3191       0  27.0  35600.0               4       5.0\n",
       "829        0  21.0  35600.0               2       5.0"
      ]
     },
     "metadata": {},
     "output_type": "display_data"
    }
   ],
   "source": [
    "# finding values for k neighbors: without scaling\n",
    "print('KNN Without Scaling\\n--------------------')\n",
    "print('Euclidean Distances')\n",
    "display(get_knn(df[feature_names], 1500, 10, 'euclidean'))\n",
    "print()\n",
    "print('Manhattan Distances')\n",
    "display(get_knn(df[feature_names], 1500, 10, 'manhattan'))"
   ]
  },
  {
   "cell_type": "markdown",
   "metadata": {},
   "source": [
    "- We see that the indices we get for both measures are the same, but the distances are a little different. The euclidean distance returns floats, whereas the manhattan distance returns integers, and numbers round up,"
   ]
  },
  {
   "cell_type": "markdown",
   "metadata": {},
   "source": [
    "#### KNN with Scaling"
   ]
  },
  {
   "cell_type": "code",
   "execution_count": 14,
   "metadata": {
    "ExecuteTime": {
     "end_time": "2022-02-14T10:36:46.752886Z",
     "start_time": "2022-02-14T10:36:46.738924Z"
    }
   },
   "outputs": [],
   "source": [
    "feature_names = ['gender', 'age', 'income', 'family_members']\n",
    "\n",
    "transformer_mas = sklearn.preprocessing.MaxAbsScaler().fit(df[feature_names].to_numpy())\n",
    "\n",
    "df_scaled = df.copy()\n",
    "df_scaled.loc[:, feature_names] = transformer_mas.transform(df[feature_names].to_numpy())"
   ]
  },
  {
   "cell_type": "code",
   "execution_count": 15,
   "metadata": {
    "ExecuteTime": {
     "end_time": "2022-02-14T10:36:48.657330Z",
     "start_time": "2022-02-14T10:36:48.633369Z"
    }
   },
   "outputs": [
    {
     "data": {
      "text/html": [
       "<div>\n",
       "<style scoped>\n",
       "    .dataframe tbody tr th:only-of-type {\n",
       "        vertical-align: middle;\n",
       "    }\n",
       "\n",
       "    .dataframe tbody tr th {\n",
       "        vertical-align: top;\n",
       "    }\n",
       "\n",
       "    .dataframe thead th {\n",
       "        text-align: right;\n",
       "    }\n",
       "</style>\n",
       "<table border=\"1\" class=\"dataframe\">\n",
       "  <thead>\n",
       "    <tr style=\"text-align: right;\">\n",
       "      <th></th>\n",
       "      <th>gender</th>\n",
       "      <th>age</th>\n",
       "      <th>income</th>\n",
       "      <th>family_members</th>\n",
       "      <th>insurance_benefits</th>\n",
       "    </tr>\n",
       "  </thead>\n",
       "  <tbody>\n",
       "    <tr>\n",
       "      <th>2240</th>\n",
       "      <td>0.0</td>\n",
       "      <td>0.923077</td>\n",
       "      <td>0.353165</td>\n",
       "      <td>0.000000</td>\n",
       "      <td>4</td>\n",
       "    </tr>\n",
       "    <tr>\n",
       "      <th>4456</th>\n",
       "      <td>1.0</td>\n",
       "      <td>0.523077</td>\n",
       "      <td>0.567089</td>\n",
       "      <td>0.000000</td>\n",
       "      <td>0</td>\n",
       "    </tr>\n",
       "    <tr>\n",
       "      <th>1646</th>\n",
       "      <td>1.0</td>\n",
       "      <td>0.384615</td>\n",
       "      <td>0.625316</td>\n",
       "      <td>0.166667</td>\n",
       "      <td>0</td>\n",
       "    </tr>\n",
       "    <tr>\n",
       "      <th>3181</th>\n",
       "      <td>1.0</td>\n",
       "      <td>0.384615</td>\n",
       "      <td>0.656962</td>\n",
       "      <td>0.000000</td>\n",
       "      <td>0</td>\n",
       "    </tr>\n",
       "    <tr>\n",
       "      <th>3770</th>\n",
       "      <td>1.0</td>\n",
       "      <td>0.430769</td>\n",
       "      <td>0.886076</td>\n",
       "      <td>0.333333</td>\n",
       "      <td>0</td>\n",
       "    </tr>\n",
       "  </tbody>\n",
       "</table>\n",
       "</div>"
      ],
      "text/plain": [
       "      gender       age    income  family_members  insurance_benefits\n",
       "2240     0.0  0.923077  0.353165        0.000000                   4\n",
       "4456     1.0  0.523077  0.567089        0.000000                   0\n",
       "1646     1.0  0.384615  0.625316        0.166667                   0\n",
       "3181     1.0  0.384615  0.656962        0.000000                   0\n",
       "3770     1.0  0.430769  0.886076        0.333333                   0"
      ]
     },
     "execution_count": 15,
     "metadata": {},
     "output_type": "execute_result"
    }
   ],
   "source": [
    "df_scaled.sample(5)"
   ]
  },
  {
   "cell_type": "code",
   "execution_count": 42,
   "metadata": {
    "ExecuteTime": {
     "end_time": "2022-02-15T11:05:03.808271Z",
     "start_time": "2022-02-15T11:05:03.761398Z"
    }
   },
   "outputs": [
    {
     "name": "stdout",
     "output_type": "stream",
     "text": [
      "KNN With Scaling\n",
      "-----------------\n",
      "Euclidean Distances\n"
     ]
    },
    {
     "data": {
      "text/html": [
       "<div>\n",
       "<style scoped>\n",
       "    .dataframe tbody tr th:only-of-type {\n",
       "        vertical-align: middle;\n",
       "    }\n",
       "\n",
       "    .dataframe tbody tr th {\n",
       "        vertical-align: top;\n",
       "    }\n",
       "\n",
       "    .dataframe thead th {\n",
       "        text-align: right;\n",
       "    }\n",
       "</style>\n",
       "<table border=\"1\" class=\"dataframe\">\n",
       "  <thead>\n",
       "    <tr style=\"text-align: right;\">\n",
       "      <th></th>\n",
       "      <th>gender</th>\n",
       "      <th>age</th>\n",
       "      <th>income</th>\n",
       "      <th>family_members</th>\n",
       "      <th>distance</th>\n",
       "    </tr>\n",
       "  </thead>\n",
       "  <tbody>\n",
       "    <tr>\n",
       "      <th>1500</th>\n",
       "      <td>1.0</td>\n",
       "      <td>0.384615</td>\n",
       "      <td>0.450633</td>\n",
       "      <td>0.333333</td>\n",
       "      <td>0.000000</td>\n",
       "    </tr>\n",
       "    <tr>\n",
       "      <th>2305</th>\n",
       "      <td>1.0</td>\n",
       "      <td>0.384615</td>\n",
       "      <td>0.456962</td>\n",
       "      <td>0.333333</td>\n",
       "      <td>0.006329</td>\n",
       "    </tr>\n",
       "    <tr>\n",
       "      <th>4426</th>\n",
       "      <td>1.0</td>\n",
       "      <td>0.384615</td>\n",
       "      <td>0.459494</td>\n",
       "      <td>0.333333</td>\n",
       "      <td>0.008861</td>\n",
       "    </tr>\n",
       "    <tr>\n",
       "      <th>610</th>\n",
       "      <td>1.0</td>\n",
       "      <td>0.384615</td>\n",
       "      <td>0.437975</td>\n",
       "      <td>0.333333</td>\n",
       "      <td>0.012658</td>\n",
       "    </tr>\n",
       "    <tr>\n",
       "      <th>4039</th>\n",
       "      <td>1.0</td>\n",
       "      <td>0.384615</td>\n",
       "      <td>0.463291</td>\n",
       "      <td>0.333333</td>\n",
       "      <td>0.012658</td>\n",
       "    </tr>\n",
       "    <tr>\n",
       "      <th>837</th>\n",
       "      <td>1.0</td>\n",
       "      <td>0.369231</td>\n",
       "      <td>0.453165</td>\n",
       "      <td>0.333333</td>\n",
       "      <td>0.015592</td>\n",
       "    </tr>\n",
       "    <tr>\n",
       "      <th>1272</th>\n",
       "      <td>1.0</td>\n",
       "      <td>0.369231</td>\n",
       "      <td>0.443038</td>\n",
       "      <td>0.333333</td>\n",
       "      <td>0.017157</td>\n",
       "    </tr>\n",
       "    <tr>\n",
       "      <th>3975</th>\n",
       "      <td>1.0</td>\n",
       "      <td>0.384615</td>\n",
       "      <td>0.469620</td>\n",
       "      <td>0.333333</td>\n",
       "      <td>0.018987</td>\n",
       "    </tr>\n",
       "    <tr>\n",
       "      <th>4639</th>\n",
       "      <td>1.0</td>\n",
       "      <td>0.400000</td>\n",
       "      <td>0.437975</td>\n",
       "      <td>0.333333</td>\n",
       "      <td>0.019923</td>\n",
       "    </tr>\n",
       "    <tr>\n",
       "      <th>3247</th>\n",
       "      <td>1.0</td>\n",
       "      <td>0.400000</td>\n",
       "      <td>0.463291</td>\n",
       "      <td>0.333333</td>\n",
       "      <td>0.019923</td>\n",
       "    </tr>\n",
       "  </tbody>\n",
       "</table>\n",
       "</div>"
      ],
      "text/plain": [
       "      gender       age    income  family_members  distance\n",
       "1500     1.0  0.384615  0.450633        0.333333  0.000000\n",
       "2305     1.0  0.384615  0.456962        0.333333  0.006329\n",
       "4426     1.0  0.384615  0.459494        0.333333  0.008861\n",
       "610      1.0  0.384615  0.437975        0.333333  0.012658\n",
       "4039     1.0  0.384615  0.463291        0.333333  0.012658\n",
       "837      1.0  0.369231  0.453165        0.333333  0.015592\n",
       "1272     1.0  0.369231  0.443038        0.333333  0.017157\n",
       "3975     1.0  0.384615  0.469620        0.333333  0.018987\n",
       "4639     1.0  0.400000  0.437975        0.333333  0.019923\n",
       "3247     1.0  0.400000  0.463291        0.333333  0.019923"
      ]
     },
     "metadata": {},
     "output_type": "display_data"
    },
    {
     "name": "stdout",
     "output_type": "stream",
     "text": [
      "\n",
      "Manhattan Distances\n"
     ]
    },
    {
     "data": {
      "text/html": [
       "<div>\n",
       "<style scoped>\n",
       "    .dataframe tbody tr th:only-of-type {\n",
       "        vertical-align: middle;\n",
       "    }\n",
       "\n",
       "    .dataframe tbody tr th {\n",
       "        vertical-align: top;\n",
       "    }\n",
       "\n",
       "    .dataframe thead th {\n",
       "        text-align: right;\n",
       "    }\n",
       "</style>\n",
       "<table border=\"1\" class=\"dataframe\">\n",
       "  <thead>\n",
       "    <tr style=\"text-align: right;\">\n",
       "      <th></th>\n",
       "      <th>gender</th>\n",
       "      <th>age</th>\n",
       "      <th>income</th>\n",
       "      <th>family_members</th>\n",
       "      <th>distance</th>\n",
       "    </tr>\n",
       "  </thead>\n",
       "  <tbody>\n",
       "    <tr>\n",
       "      <th>1500</th>\n",
       "      <td>1.0</td>\n",
       "      <td>0.384615</td>\n",
       "      <td>0.450633</td>\n",
       "      <td>0.333333</td>\n",
       "      <td>0.000000</td>\n",
       "    </tr>\n",
       "    <tr>\n",
       "      <th>2305</th>\n",
       "      <td>1.0</td>\n",
       "      <td>0.384615</td>\n",
       "      <td>0.456962</td>\n",
       "      <td>0.333333</td>\n",
       "      <td>0.006329</td>\n",
       "    </tr>\n",
       "    <tr>\n",
       "      <th>4426</th>\n",
       "      <td>1.0</td>\n",
       "      <td>0.384615</td>\n",
       "      <td>0.459494</td>\n",
       "      <td>0.333333</td>\n",
       "      <td>0.008861</td>\n",
       "    </tr>\n",
       "    <tr>\n",
       "      <th>4039</th>\n",
       "      <td>1.0</td>\n",
       "      <td>0.384615</td>\n",
       "      <td>0.463291</td>\n",
       "      <td>0.333333</td>\n",
       "      <td>0.012658</td>\n",
       "    </tr>\n",
       "    <tr>\n",
       "      <th>610</th>\n",
       "      <td>1.0</td>\n",
       "      <td>0.384615</td>\n",
       "      <td>0.437975</td>\n",
       "      <td>0.333333</td>\n",
       "      <td>0.012658</td>\n",
       "    </tr>\n",
       "    <tr>\n",
       "      <th>837</th>\n",
       "      <td>1.0</td>\n",
       "      <td>0.369231</td>\n",
       "      <td>0.453165</td>\n",
       "      <td>0.333333</td>\n",
       "      <td>0.017916</td>\n",
       "    </tr>\n",
       "    <tr>\n",
       "      <th>3975</th>\n",
       "      <td>1.0</td>\n",
       "      <td>0.384615</td>\n",
       "      <td>0.469620</td>\n",
       "      <td>0.333333</td>\n",
       "      <td>0.018987</td>\n",
       "    </tr>\n",
       "    <tr>\n",
       "      <th>1272</th>\n",
       "      <td>1.0</td>\n",
       "      <td>0.369231</td>\n",
       "      <td>0.443038</td>\n",
       "      <td>0.333333</td>\n",
       "      <td>0.022980</td>\n",
       "    </tr>\n",
       "    <tr>\n",
       "      <th>4639</th>\n",
       "      <td>1.0</td>\n",
       "      <td>0.400000</td>\n",
       "      <td>0.437975</td>\n",
       "      <td>0.333333</td>\n",
       "      <td>0.028043</td>\n",
       "    </tr>\n",
       "    <tr>\n",
       "      <th>3247</th>\n",
       "      <td>1.0</td>\n",
       "      <td>0.400000</td>\n",
       "      <td>0.463291</td>\n",
       "      <td>0.333333</td>\n",
       "      <td>0.028043</td>\n",
       "    </tr>\n",
       "  </tbody>\n",
       "</table>\n",
       "</div>"
      ],
      "text/plain": [
       "      gender       age    income  family_members  distance\n",
       "1500     1.0  0.384615  0.450633        0.333333  0.000000\n",
       "2305     1.0  0.384615  0.456962        0.333333  0.006329\n",
       "4426     1.0  0.384615  0.459494        0.333333  0.008861\n",
       "4039     1.0  0.384615  0.463291        0.333333  0.012658\n",
       "610      1.0  0.384615  0.437975        0.333333  0.012658\n",
       "837      1.0  0.369231  0.453165        0.333333  0.017916\n",
       "3975     1.0  0.384615  0.469620        0.333333  0.018987\n",
       "1272     1.0  0.369231  0.443038        0.333333  0.022980\n",
       "4639     1.0  0.400000  0.437975        0.333333  0.028043\n",
       "3247     1.0  0.400000  0.463291        0.333333  0.028043"
      ]
     },
     "metadata": {},
     "output_type": "display_data"
    }
   ],
   "source": [
    "# finding values for k neighbors: with scaling\n",
    "print('KNN With Scaling\\n-----------------')\n",
    "print('Euclidean Distances')\n",
    "display(get_knn(df_scaled[feature_names], 1500, 10, 'euclidean'))\n",
    "print()\n",
    "print('Manhattan Distances')\n",
    "display(get_knn(df_scaled[feature_names], 1500, 10, 'manhattan'))"
   ]
  },
  {
   "cell_type": "markdown",
   "metadata": {},
   "source": [
    "**How does the unscaled data affect the KNN algorithm?** \n",
    "\n",
    "1. We can see by the indices of the observations, that the k closest neighbors are different in the cases of scaled and unscaled data.<br>\n",
    "2. In the unscaled data, for both distances we get the same observations, but their order changes. In the scaled data, the the obeservations are the same, and in both distances the order of them is similar, but the distance itself differs.<br>\n",
    "3. In the unscaled data, all the k neighbors have the same income, whereas the scaled k records have several incomes.<br>\n",
    "4. In the scaled data the gender is the same, whereas in the unscaled data the gender changes.<br>\n",
    "5. The number of family members in the scaled data is fixed, whereas in the unscaled data it differs."
   ]
  },
  {
   "cell_type": "markdown",
   "metadata": {},
   "source": [
    "### Task 2: Is a Customer Likely to Receive Insurance Benefit?"
   ]
  },
  {
   "cell_type": "code",
   "execution_count": 18,
   "metadata": {
    "ExecuteTime": {
     "end_time": "2022-02-14T10:37:01.766395Z",
     "start_time": "2022-02-14T10:37:01.743411Z"
    }
   },
   "outputs": [
    {
     "data": {
      "text/html": [
       "<div>\n",
       "<style scoped>\n",
       "    .dataframe tbody tr th:only-of-type {\n",
       "        vertical-align: middle;\n",
       "    }\n",
       "\n",
       "    .dataframe tbody tr th {\n",
       "        vertical-align: top;\n",
       "    }\n",
       "\n",
       "    .dataframe thead th {\n",
       "        text-align: right;\n",
       "    }\n",
       "</style>\n",
       "<table border=\"1\" class=\"dataframe\">\n",
       "  <thead>\n",
       "    <tr style=\"text-align: right;\">\n",
       "      <th></th>\n",
       "      <th>gender</th>\n",
       "      <th>age</th>\n",
       "      <th>income</th>\n",
       "      <th>family_members</th>\n",
       "      <th>insurance_benefits</th>\n",
       "    </tr>\n",
       "  </thead>\n",
       "  <tbody>\n",
       "    <tr>\n",
       "      <th>0</th>\n",
       "      <td>1</td>\n",
       "      <td>41.0</td>\n",
       "      <td>49600.0</td>\n",
       "      <td>1</td>\n",
       "      <td>0</td>\n",
       "    </tr>\n",
       "    <tr>\n",
       "      <th>1</th>\n",
       "      <td>0</td>\n",
       "      <td>46.0</td>\n",
       "      <td>38000.0</td>\n",
       "      <td>1</td>\n",
       "      <td>1</td>\n",
       "    </tr>\n",
       "    <tr>\n",
       "      <th>2</th>\n",
       "      <td>0</td>\n",
       "      <td>29.0</td>\n",
       "      <td>21000.0</td>\n",
       "      <td>0</td>\n",
       "      <td>0</td>\n",
       "    </tr>\n",
       "    <tr>\n",
       "      <th>3</th>\n",
       "      <td>0</td>\n",
       "      <td>21.0</td>\n",
       "      <td>41700.0</td>\n",
       "      <td>2</td>\n",
       "      <td>0</td>\n",
       "    </tr>\n",
       "    <tr>\n",
       "      <th>4</th>\n",
       "      <td>1</td>\n",
       "      <td>28.0</td>\n",
       "      <td>26100.0</td>\n",
       "      <td>0</td>\n",
       "      <td>0</td>\n",
       "    </tr>\n",
       "  </tbody>\n",
       "</table>\n",
       "</div>"
      ],
      "text/plain": [
       "   gender   age   income  family_members  insurance_benefits\n",
       "0       1  41.0  49600.0               1                   0\n",
       "1       0  46.0  38000.0               1                   1\n",
       "2       0  29.0  21000.0               0                   0\n",
       "3       0  21.0  41700.0               2                   0\n",
       "4       1  28.0  26100.0               0                   0"
      ]
     },
     "execution_count": 18,
     "metadata": {},
     "output_type": "execute_result"
    }
   ],
   "source": [
    "df.head()"
   ]
  },
  {
   "cell_type": "code",
   "execution_count": 19,
   "metadata": {
    "ExecuteTime": {
     "end_time": "2022-02-14T10:37:02.607072Z",
     "start_time": "2022-02-14T10:37:02.582123Z"
    }
   },
   "outputs": [
    {
     "data": {
      "text/html": [
       "<div>\n",
       "<style scoped>\n",
       "    .dataframe tbody tr th:only-of-type {\n",
       "        vertical-align: middle;\n",
       "    }\n",
       "\n",
       "    .dataframe tbody tr th {\n",
       "        vertical-align: top;\n",
       "    }\n",
       "\n",
       "    .dataframe thead th {\n",
       "        text-align: right;\n",
       "    }\n",
       "</style>\n",
       "<table border=\"1\" class=\"dataframe\">\n",
       "  <thead>\n",
       "    <tr style=\"text-align: right;\">\n",
       "      <th></th>\n",
       "      <th>gender</th>\n",
       "      <th>age</th>\n",
       "      <th>income</th>\n",
       "      <th>family_members</th>\n",
       "      <th>insurance_benefits</th>\n",
       "      <th>insurance_benefits_received</th>\n",
       "    </tr>\n",
       "  </thead>\n",
       "  <tbody>\n",
       "    <tr>\n",
       "      <th>4990</th>\n",
       "      <td>0</td>\n",
       "      <td>22.0</td>\n",
       "      <td>56800.0</td>\n",
       "      <td>1</td>\n",
       "      <td>0</td>\n",
       "      <td>0</td>\n",
       "    </tr>\n",
       "    <tr>\n",
       "      <th>4991</th>\n",
       "      <td>0</td>\n",
       "      <td>21.0</td>\n",
       "      <td>38300.0</td>\n",
       "      <td>3</td>\n",
       "      <td>0</td>\n",
       "      <td>0</td>\n",
       "    </tr>\n",
       "    <tr>\n",
       "      <th>4992</th>\n",
       "      <td>0</td>\n",
       "      <td>45.0</td>\n",
       "      <td>54600.0</td>\n",
       "      <td>0</td>\n",
       "      <td>1</td>\n",
       "      <td>1</td>\n",
       "    </tr>\n",
       "    <tr>\n",
       "      <th>4993</th>\n",
       "      <td>1</td>\n",
       "      <td>32.0</td>\n",
       "      <td>36000.0</td>\n",
       "      <td>1</td>\n",
       "      <td>0</td>\n",
       "      <td>0</td>\n",
       "    </tr>\n",
       "    <tr>\n",
       "      <th>4994</th>\n",
       "      <td>1</td>\n",
       "      <td>26.0</td>\n",
       "      <td>51400.0</td>\n",
       "      <td>0</td>\n",
       "      <td>0</td>\n",
       "      <td>0</td>\n",
       "    </tr>\n",
       "    <tr>\n",
       "      <th>4995</th>\n",
       "      <td>0</td>\n",
       "      <td>28.0</td>\n",
       "      <td>35700.0</td>\n",
       "      <td>2</td>\n",
       "      <td>0</td>\n",
       "      <td>0</td>\n",
       "    </tr>\n",
       "    <tr>\n",
       "      <th>4996</th>\n",
       "      <td>0</td>\n",
       "      <td>34.0</td>\n",
       "      <td>52400.0</td>\n",
       "      <td>1</td>\n",
       "      <td>0</td>\n",
       "      <td>0</td>\n",
       "    </tr>\n",
       "    <tr>\n",
       "      <th>4997</th>\n",
       "      <td>0</td>\n",
       "      <td>20.0</td>\n",
       "      <td>33900.0</td>\n",
       "      <td>2</td>\n",
       "      <td>0</td>\n",
       "      <td>0</td>\n",
       "    </tr>\n",
       "    <tr>\n",
       "      <th>4998</th>\n",
       "      <td>1</td>\n",
       "      <td>22.0</td>\n",
       "      <td>32700.0</td>\n",
       "      <td>3</td>\n",
       "      <td>0</td>\n",
       "      <td>0</td>\n",
       "    </tr>\n",
       "    <tr>\n",
       "      <th>4999</th>\n",
       "      <td>1</td>\n",
       "      <td>28.0</td>\n",
       "      <td>40600.0</td>\n",
       "      <td>1</td>\n",
       "      <td>0</td>\n",
       "      <td>0</td>\n",
       "    </tr>\n",
       "  </tbody>\n",
       "</table>\n",
       "</div>"
      ],
      "text/plain": [
       "      gender   age   income  family_members  insurance_benefits  \\\n",
       "4990       0  22.0  56800.0               1                   0   \n",
       "4991       0  21.0  38300.0               3                   0   \n",
       "4992       0  45.0  54600.0               0                   1   \n",
       "4993       1  32.0  36000.0               1                   0   \n",
       "4994       1  26.0  51400.0               0                   0   \n",
       "4995       0  28.0  35700.0               2                   0   \n",
       "4996       0  34.0  52400.0               1                   0   \n",
       "4997       0  20.0  33900.0               2                   0   \n",
       "4998       1  22.0  32700.0               3                   0   \n",
       "4999       1  28.0  40600.0               1                   0   \n",
       "\n",
       "      insurance_benefits_received  \n",
       "4990                            0  \n",
       "4991                            0  \n",
       "4992                            1  \n",
       "4993                            0  \n",
       "4994                            0  \n",
       "4995                            0  \n",
       "4996                            0  \n",
       "4997                            0  \n",
       "4998                            0  \n",
       "4999                            0  "
      ]
     },
     "execution_count": 19,
     "metadata": {},
     "output_type": "execute_result"
    }
   ],
   "source": [
    "# calculate the target\n",
    "df['insurance_benefits_received'] = df['insurance_benefits'].apply(lambda x: 1 if x > 0 else 0)\n",
    "\n",
    "df.tail(10)"
   ]
  },
  {
   "cell_type": "code",
   "execution_count": 20,
   "metadata": {
    "ExecuteTime": {
     "end_time": "2022-02-14T10:37:03.881807Z",
     "start_time": "2022-02-14T10:37:03.865850Z"
    }
   },
   "outputs": [
    {
     "name": "stdout",
     "output_type": "stream",
     "text": [
      "The shares of classes of the target (%)\n"
     ]
    },
    {
     "data": {
      "text/plain": [
       "0    0.8872\n",
       "1    0.1128\n",
       "Name: insurance_benefits_received, dtype: float64"
      ]
     },
     "execution_count": 20,
     "metadata": {},
     "output_type": "execute_result"
    }
   ],
   "source": [
    "# check for the class imbalance with value_counts()\n",
    "print('The shares of classes of the target (%)')\n",
    "df['insurance_benefits_received'].value_counts(normalize=True)"
   ]
  },
  {
   "cell_type": "markdown",
   "metadata": {},
   "source": [
    "The data of the target is very imbalanced, where 88% of the values are 0 and only 12% are 1."
   ]
  },
  {
   "cell_type": "code",
   "execution_count": 43,
   "metadata": {
    "ExecuteTime": {
     "end_time": "2022-02-15T11:23:29.682356Z",
     "start_time": "2022-02-15T11:23:29.676382Z"
    }
   },
   "outputs": [],
   "source": [
    "def eval_classifier(y_true, y_pred):\n",
    "    '''\n",
    "    The function takes the true labels and the predicted labels and prints the f1 score and the confusion matrix.\n",
    "    '''\n",
    "    \n",
    "    f1_score = sklearn.metrics.f1_score(y_true, y_pred)\n",
    "    print(f'F1: {f1_score:.2f}')\n",
    "    \n",
    "    cm = sklearn.metrics.confusion_matrix(y_true, y_pred, normalize='all')\n",
    "    print('Confusion Matrix')\n",
    "    print(cm)"
   ]
  },
  {
   "cell_type": "code",
   "execution_count": 35,
   "metadata": {
    "ExecuteTime": {
     "end_time": "2022-02-14T21:17:39.741465Z",
     "start_time": "2022-02-14T21:17:39.720521Z"
    }
   },
   "outputs": [],
   "source": [
    "def rnd_model_predict(P, size, seed=42):\n",
    "    '''\n",
    "    The function return the output of a random model\n",
    "    '''\n",
    "    \n",
    "    rng = np.random.default_rng(seed=seed)\n",
    "    return rng.binomial(n=1, p=P, size=size)"
   ]
  },
  {
   "cell_type": "markdown",
   "metadata": {},
   "source": [
    "#### Dummy Model"
   ]
  },
  {
   "cell_type": "code",
   "execution_count": 47,
   "metadata": {
    "ExecuteTime": {
     "end_time": "2022-02-15T11:25:42.227327Z",
     "start_time": "2022-02-15T11:25:42.197405Z"
    }
   },
   "outputs": [
    {
     "name": "stdout",
     "output_type": "stream",
     "text": [
      "Predicitons for the dummy model\n",
      "------------------------------\n",
      "The probability: 0.00\n",
      "F1: 0.00\n",
      "Confusion Matrix\n",
      "[[0.8872 0.    ]\n",
      " [0.1128 0.    ]]\n",
      "\n",
      "The probability: 0.11\n",
      "F1: 0.12\n",
      "Confusion Matrix\n",
      "[[0.7914 0.0958]\n",
      " [0.0994 0.0134]]\n",
      "\n",
      "The probability: 0.50\n",
      "F1: 0.20\n",
      "Confusion Matrix\n",
      "[[0.456  0.4312]\n",
      " [0.053  0.0598]]\n",
      "\n",
      "The probability: 1.00\n",
      "F1: 0.20\n",
      "Confusion Matrix\n",
      "[[0.     0.8872]\n",
      " [0.     0.1128]]\n",
      "\n"
     ]
    }
   ],
   "source": [
    "print('Predicitons for the dummy model\\n------------------------------')\n",
    "for P in [0, df['insurance_benefits_received'].sum() / len(df), 0.5, 1]:\n",
    "\n",
    "    print(f'The probability: {P:.2f}')\n",
    "    y_pred_rnd = rnd_model_predict(P, len(df), seed=42)\n",
    "    \n",
    "    # call for the classifier evaluation\n",
    "    eval_classifier(df['insurance_benefits_received'], y_pred_rnd)\n",
    "    \n",
    "    print()"
   ]
  },
  {
   "cell_type": "code",
   "execution_count": 24,
   "metadata": {
    "ExecuteTime": {
     "end_time": "2022-02-14T10:38:13.759646Z",
     "start_time": "2022-02-14T10:38:13.744572Z"
    }
   },
   "outputs": [],
   "source": [
    "# split the data into features and target\n",
    "features = df.drop(['insurance_benefits','insurance_benefits_received'], axis=1)\n",
    "target = df['insurance_benefits_received']"
   ]
  },
  {
   "cell_type": "code",
   "execution_count": 25,
   "metadata": {
    "ExecuteTime": {
     "end_time": "2022-02-14T10:38:16.315903Z",
     "start_time": "2022-02-14T10:38:16.293967Z"
    }
   },
   "outputs": [
    {
     "name": "stdout",
     "output_type": "stream",
     "text": [
      "Train: (3500, 4)\n",
      "Test: (1500, 4)\n"
     ]
    }
   ],
   "source": [
    "# split the sets into train and test sets\n",
    "features_train, features_test, target_train, target_test = train_test_split\\\n",
    "(features, target, test_size=0.3, random_state=12345)\n",
    "\n",
    "# print shapes\n",
    "print('Train:',features_train.shape)\n",
    "print('Test:',features_test.shape)"
   ]
  },
  {
   "cell_type": "code",
   "execution_count": 26,
   "metadata": {
    "ExecuteTime": {
     "end_time": "2022-02-14T10:38:18.353396Z",
     "start_time": "2022-02-14T10:38:18.330457Z"
    }
   },
   "outputs": [
    {
     "data": {
      "text/html": [
       "<div>\n",
       "<style scoped>\n",
       "    .dataframe tbody tr th:only-of-type {\n",
       "        vertical-align: middle;\n",
       "    }\n",
       "\n",
       "    .dataframe tbody tr th {\n",
       "        vertical-align: top;\n",
       "    }\n",
       "\n",
       "    .dataframe thead th {\n",
       "        text-align: right;\n",
       "    }\n",
       "</style>\n",
       "<table border=\"1\" class=\"dataframe\">\n",
       "  <thead>\n",
       "    <tr style=\"text-align: right;\">\n",
       "      <th></th>\n",
       "      <th>gender</th>\n",
       "      <th>age</th>\n",
       "      <th>income</th>\n",
       "      <th>family_members</th>\n",
       "    </tr>\n",
       "  </thead>\n",
       "  <tbody>\n",
       "    <tr>\n",
       "      <th>0</th>\n",
       "      <td>0.0</td>\n",
       "      <td>0.446154</td>\n",
       "      <td>0.255696</td>\n",
       "      <td>0.000000</td>\n",
       "    </tr>\n",
       "    <tr>\n",
       "      <th>1</th>\n",
       "      <td>0.0</td>\n",
       "      <td>0.569231</td>\n",
       "      <td>0.472152</td>\n",
       "      <td>0.333333</td>\n",
       "    </tr>\n",
       "    <tr>\n",
       "      <th>2</th>\n",
       "      <td>0.0</td>\n",
       "      <td>0.523077</td>\n",
       "      <td>0.408861</td>\n",
       "      <td>0.333333</td>\n",
       "    </tr>\n",
       "    <tr>\n",
       "      <th>3</th>\n",
       "      <td>1.0</td>\n",
       "      <td>0.553846</td>\n",
       "      <td>0.579747</td>\n",
       "      <td>0.166667</td>\n",
       "    </tr>\n",
       "    <tr>\n",
       "      <th>4</th>\n",
       "      <td>0.0</td>\n",
       "      <td>0.600000</td>\n",
       "      <td>0.473418</td>\n",
       "      <td>0.000000</td>\n",
       "    </tr>\n",
       "  </tbody>\n",
       "</table>\n",
       "</div>"
      ],
      "text/plain": [
       "   gender       age    income  family_members\n",
       "0     0.0  0.446154  0.255696        0.000000\n",
       "1     0.0  0.569231  0.472152        0.333333\n",
       "2     0.0  0.523077  0.408861        0.333333\n",
       "3     1.0  0.553846  0.579747        0.166667\n",
       "4     0.0  0.600000  0.473418        0.000000"
      ]
     },
     "metadata": {},
     "output_type": "display_data"
    },
    {
     "data": {
      "text/html": [
       "<div>\n",
       "<style scoped>\n",
       "    .dataframe tbody tr th:only-of-type {\n",
       "        vertical-align: middle;\n",
       "    }\n",
       "\n",
       "    .dataframe tbody tr th {\n",
       "        vertical-align: top;\n",
       "    }\n",
       "\n",
       "    .dataframe thead th {\n",
       "        text-align: right;\n",
       "    }\n",
       "</style>\n",
       "<table border=\"1\" class=\"dataframe\">\n",
       "  <thead>\n",
       "    <tr style=\"text-align: right;\">\n",
       "      <th></th>\n",
       "      <th>gender</th>\n",
       "      <th>age</th>\n",
       "      <th>income</th>\n",
       "      <th>family_members</th>\n",
       "    </tr>\n",
       "  </thead>\n",
       "  <tbody>\n",
       "    <tr>\n",
       "      <th>0</th>\n",
       "      <td>0.0</td>\n",
       "      <td>0.507692</td>\n",
       "      <td>0.493671</td>\n",
       "      <td>0.666667</td>\n",
       "    </tr>\n",
       "    <tr>\n",
       "      <th>1</th>\n",
       "      <td>0.0</td>\n",
       "      <td>0.769231</td>\n",
       "      <td>0.545570</td>\n",
       "      <td>0.333333</td>\n",
       "    </tr>\n",
       "    <tr>\n",
       "      <th>2</th>\n",
       "      <td>1.0</td>\n",
       "      <td>0.600000</td>\n",
       "      <td>0.532911</td>\n",
       "      <td>0.000000</td>\n",
       "    </tr>\n",
       "    <tr>\n",
       "      <th>3</th>\n",
       "      <td>0.0</td>\n",
       "      <td>0.307692</td>\n",
       "      <td>0.440506</td>\n",
       "      <td>0.000000</td>\n",
       "    </tr>\n",
       "    <tr>\n",
       "      <th>4</th>\n",
       "      <td>0.0</td>\n",
       "      <td>0.630769</td>\n",
       "      <td>0.506329</td>\n",
       "      <td>0.666667</td>\n",
       "    </tr>\n",
       "  </tbody>\n",
       "</table>\n",
       "</div>"
      ],
      "text/plain": [
       "   gender       age    income  family_members\n",
       "0     0.0  0.507692  0.493671        0.666667\n",
       "1     0.0  0.769231  0.545570        0.333333\n",
       "2     1.0  0.600000  0.532911        0.000000\n",
       "3     0.0  0.307692  0.440506        0.000000\n",
       "4     0.0  0.630769  0.506329        0.666667"
      ]
     },
     "metadata": {},
     "output_type": "display_data"
    }
   ],
   "source": [
    "# scaling the data and keeping it in separate variables\n",
    "\n",
    "# create a copy of both features sets\n",
    "scaled_train = features_train.copy()\n",
    "scaled_test = features_test.copy()\n",
    "\n",
    "# scaling\n",
    "scaled_train = sklearn.preprocessing.MaxAbsScaler().fit_transform(scaled_train.to_numpy())\n",
    "scaled_test = scaling.transform(scaled_test.to_numpy())\n",
    "\n",
    "# change into df\n",
    "scaled_train = pd.DataFrame(scaled_train, columns = feature_names)\n",
    "scaled_test = pd.DataFrame(scaled_test, columns=feature_names)\n",
    "\n",
    "# display\n",
    "display(scaled_train.head())\n",
    "display(scaled_test.head())"
   ]
  },
  {
   "cell_type": "markdown",
   "metadata": {},
   "source": [
    "#### KNN without Scaling"
   ]
  },
  {
   "cell_type": "code",
   "execution_count": 29,
   "metadata": {
    "ExecuteTime": {
     "end_time": "2022-02-14T10:38:59.434170Z",
     "start_time": "2022-02-14T10:38:58.815467Z"
    }
   },
   "outputs": [
    {
     "name": "stdout",
     "output_type": "stream",
     "text": [
      "KNN: Unscaled data\n",
      "K = 1\n",
      "F1: 0.60\n",
      "Confusion Matrix\n",
      "[[0.87066667 0.02066667]\n",
      " [0.05266667 0.056     ]]\n",
      "\n",
      "K = 2\n",
      "F1: 0.41\n",
      "Confusion Matrix\n",
      "[[0.88733333 0.004     ]\n",
      " [0.08       0.02866667]]\n",
      "\n",
      "K = 3\n",
      "F1: 0.41\n",
      "Confusion Matrix\n",
      "[[0.87933333 0.012     ]\n",
      " [0.078      0.03066667]]\n",
      "\n",
      "K = 4\n",
      "F1: 0.28\n",
      "Confusion Matrix\n",
      "[[0.88866667 0.00266667]\n",
      " [0.09066667 0.018     ]]\n",
      "\n",
      "K = 5\n",
      "F1: 0.27\n",
      "Confusion Matrix\n",
      "[[0.88533333 0.006     ]\n",
      " [0.09066667 0.018     ]]\n",
      "\n",
      "K = 6\n",
      "F1: 0.11\n",
      "Confusion Matrix\n",
      "[[0.89       0.00133333]\n",
      " [0.102      0.00666667]]\n",
      "\n",
      "K = 7\n",
      "F1: 0.11\n",
      "Confusion Matrix\n",
      "[[0.88866667 0.00266667]\n",
      " [0.102      0.00666667]]\n",
      "\n",
      "K = 8\n",
      "F1: 0.07\n",
      "Confusion Matrix\n",
      "[[0.89133333 0.        ]\n",
      " [0.10466667 0.004     ]]\n",
      "\n",
      "K = 9\n",
      "F1: 0.08\n",
      "Confusion Matrix\n",
      "[[0.89133333 0.        ]\n",
      " [0.104      0.00466667]]\n",
      "\n",
      "K = 10\n",
      "F1: 0.00\n",
      "Confusion Matrix\n",
      "[[0.89133333 0.        ]\n",
      " [0.10866667 0.        ]]\n",
      "\n"
     ]
    }
   ],
   "source": [
    "print('KNN: Unscaled data')\n",
    "for i in range(1,11):\n",
    "    model = KNeighborsClassifier(n_neighbors=i, metric= 'euclidean')\n",
    "    model.fit(features_train, target_train)\n",
    "    predictions = model.predict(features_test)\n",
    "    print('K =',i)\n",
    "    eval_classifier(target_test, predictions)\n",
    "    print()"
   ]
  },
  {
   "cell_type": "markdown",
   "metadata": {},
   "source": [
    "- We see that as the k increases, the f1 score decreases."
   ]
  },
  {
   "cell_type": "markdown",
   "metadata": {},
   "source": [
    "#### KNN with Scaling"
   ]
  },
  {
   "cell_type": "code",
   "execution_count": 30,
   "metadata": {
    "ExecuteTime": {
     "end_time": "2022-02-14T10:39:25.242812Z",
     "start_time": "2022-02-14T10:39:24.534017Z"
    }
   },
   "outputs": [
    {
     "name": "stdout",
     "output_type": "stream",
     "text": [
      "KNN: Scaled data\n",
      "K = 1\n",
      "F1: 0.97\n",
      "Confusion Matrix\n",
      "[[0.88866667 0.00266667]\n",
      " [0.00466667 0.104     ]]\n",
      "\n",
      "K = 2\n",
      "F1: 0.93\n",
      "Confusion Matrix\n",
      "[[8.90666667e-01 6.66666667e-04]\n",
      " [1.40000000e-02 9.46666667e-02]]\n",
      "\n",
      "K = 3\n",
      "F1: 0.95\n",
      "Confusion Matrix\n",
      "[[0.88933333 0.002     ]\n",
      " [0.00866667 0.1       ]]\n",
      "\n",
      "K = 4\n",
      "F1: 0.91\n",
      "Confusion Matrix\n",
      "[[0.88933333 0.002     ]\n",
      " [0.01666667 0.092     ]]\n",
      "\n",
      "K = 5\n",
      "F1: 0.92\n",
      "Confusion Matrix\n",
      "[[0.88666667 0.00466667]\n",
      " [0.01133333 0.09733333]]\n",
      "\n",
      "K = 6\n",
      "F1: 0.90\n",
      "Confusion Matrix\n",
      "[[0.89       0.00133333]\n",
      " [0.018      0.09066667]]\n",
      "\n",
      "K = 7\n",
      "F1: 0.92\n",
      "Confusion Matrix\n",
      "[[0.88733333 0.004     ]\n",
      " [0.01266667 0.096     ]]\n",
      "\n",
      "K = 8\n",
      "F1: 0.90\n",
      "Confusion Matrix\n",
      "[[0.88866667 0.00266667]\n",
      " [0.01733333 0.09133333]]\n",
      "\n",
      "K = 9\n",
      "F1: 0.92\n",
      "Confusion Matrix\n",
      "[[0.88866667 0.00266667]\n",
      " [0.01466667 0.094     ]]\n",
      "\n",
      "K = 10\n",
      "F1: 0.88\n",
      "Confusion Matrix\n",
      "[[0.88866667 0.00266667]\n",
      " [0.02133333 0.08733333]]\n",
      "\n"
     ]
    }
   ],
   "source": [
    "print('KNN: Scaled data')\n",
    "for i in range(1,11):\n",
    "    knn_f = KNeighborsClassifier(n_neighbors=i)\n",
    "    knn_f.fit(scaled_train, target_train)\n",
    "    predictions = knn_f.predict(scaled_test)\n",
    "    print('K =',i)\n",
    "    eval_classifier(target_test, predictions)\n",
    "    print()"
   ]
  },
  {
   "cell_type": "markdown",
   "metadata": {},
   "source": [
    "- In the scaled data the f1 score has no consistant pattern. Sometimes the f1 score decreasing while the k decreases, other times it increases while the k decreases, and some other times the f1 and the k both increase or decrease. Regardless of the inconsistancy in pattern, the f1 score is always high, with the lowest value being 0.88 when k=10, up until 0.97 when k=1."
   ]
  },
  {
   "cell_type": "markdown",
   "metadata": {},
   "source": [
    "### Task 3. Linear Regression"
   ]
  },
  {
   "cell_type": "code",
   "execution_count": null,
   "metadata": {
    "ExecuteTime": {
     "end_time": "2022-02-13T09:05:27.753373Z",
     "start_time": "2022-02-13T09:05:27.744366Z"
    }
   },
   "outputs": [],
   "source": [
    "class MyLinearRegression:\n",
    "    '''\n",
    "    This is a class of a linear regression model\n",
    "    '''\n",
    "    def __init__(self):\n",
    "        \n",
    "        self.weights = None\n",
    "    \n",
    "    def fit(self, X, y):\n",
    "        \n",
    "        # adding the unities\n",
    "        X2 = np.append(np.ones([len(X), 1]), X, axis=1)\n",
    "        self.weights = np.linalg.inv(X2.T.dot(X2)).dot(X2.T).dot(y)\n",
    "\n",
    "    def predict(self, X):\n",
    "        \n",
    "        # adding the unities\n",
    "        X2 = np.append(np.ones([len(X), 1]), X, axis=1)\n",
    "        y_pred = X.dot(self.weights[1:]) + self.weights[0]\n",
    "        \n",
    "        return y_pred"
   ]
  },
  {
   "cell_type": "code",
   "execution_count": null,
   "metadata": {
    "ExecuteTime": {
     "end_time": "2022-02-13T09:05:28.973158Z",
     "start_time": "2022-02-13T09:05:28.955200Z"
    }
   },
   "outputs": [],
   "source": [
    "def eval_regressor(y_true, y_pred):\n",
    "    '''\n",
    "    The fuction prints RMSE and R2 scores of a model.'''\n",
    "    \n",
    "    rmse = math.sqrt(sklearn.metrics.mean_squared_error(y_true, y_pred))\n",
    "    print(f'RMSE: {rmse:.2f}')\n",
    "    \n",
    "    r2_score = math.sqrt(sklearn.metrics.r2_score(y_true, y_pred))\n",
    "    print(f'R2: {r2_score:.2f}')    "
   ]
  },
  {
   "cell_type": "code",
   "execution_count": null,
   "metadata": {
    "ExecuteTime": {
     "end_time": "2022-02-13T09:06:02.727892Z",
     "start_time": "2022-02-13T09:06:02.712890Z"
    }
   },
   "outputs": [],
   "source": [
    "# creating the features set\n",
    "X = df[['age', 'gender', 'income', 'family_members']].to_numpy()\n",
    "# creating the target set\n",
    "y = df['insurance_benefits'].to_numpy()\n",
    "\n",
    "# splitting the features and target sets into train and test sets\n",
    "X_train, X_test, y_train, y_test = train_test_split(X, y, test_size=0.3, random_state=12345)\n",
    "\n",
    "print('Unscaled data')\n",
    "lr = MyLinearRegression()\n",
    "\n",
    "lr.fit(X_train, y_train)\n",
    "display(lr.weights)\n",
    "\n",
    "y_test_pred = lr.predict(X_test)\n",
    "eval_regressor(y_test, y_test_pred)"
   ]
  },
  {
   "cell_type": "code",
   "execution_count": null,
   "metadata": {
    "ExecuteTime": {
     "end_time": "2022-02-13T09:05:32.892704Z",
     "start_time": "2022-02-13T09:05:32.875707Z"
    }
   },
   "outputs": [],
   "source": [
    "# scaling the features\n",
    "scaling = sklearn.preprocessing.MaxAbsScaler().fit(X_train)\n",
    "scaled_X_train = scaling.transform(X_train)\n",
    "scaled_X_test = scaling.transform(X_test)"
   ]
  },
  {
   "cell_type": "code",
   "execution_count": null,
   "metadata": {
    "ExecuteTime": {
     "end_time": "2022-02-13T09:07:03.637824Z",
     "start_time": "2022-02-13T09:07:03.616876Z"
    }
   },
   "outputs": [],
   "source": [
    "# training with scaled data\n",
    "lr = MyLinearRegression()\n",
    "\n",
    "print('Scaled data')\n",
    "lr.fit(scaled_X_train, y_train)\n",
    "print(lr.weights)\n",
    "\n",
    "y_test_pred = lr.predict(scaled_X_test)\n",
    "eval_regressor(y_test, y_test_pred)"
   ]
  },
  {
   "cell_type": "markdown",
   "metadata": {},
   "source": [
    "Whether the data is scaled or not, the RMSE and the R2 scores are the same. This may be due to ???"
   ]
  },
  {
   "cell_type": "markdown",
   "metadata": {},
   "source": [
    "### Task 4. Obfuscating Data without Disrupting the ML Model"
   ]
  },
  {
   "cell_type": "code",
   "execution_count": null,
   "metadata": {
    "ExecuteTime": {
     "end_time": "2022-02-13T09:07:57.775798Z",
     "start_time": "2022-02-13T09:07:57.761821Z"
    }
   },
   "outputs": [],
   "source": [
    "personal_info_column_list = ['gender', 'age', 'income', 'family_members']\n",
    "df_pn = df[personal_info_column_list]"
   ]
  },
  {
   "cell_type": "code",
   "execution_count": null,
   "metadata": {
    "ExecuteTime": {
     "end_time": "2022-02-13T09:07:58.307729Z",
     "start_time": "2022-02-13T09:07:58.288779Z"
    }
   },
   "outputs": [],
   "source": [
    "X = df_pn.to_numpy()\n",
    "display(X)\n",
    "X.shape"
   ]
  },
  {
   "cell_type": "markdown",
   "metadata": {},
   "source": [
    "Generating a random matrix $P$"
   ]
  },
  {
   "cell_type": "code",
   "execution_count": null,
   "metadata": {
    "ExecuteTime": {
     "end_time": "2022-02-13T09:08:00.548158Z",
     "start_time": "2022-02-13T09:08:00.528216Z"
    }
   },
   "outputs": [],
   "source": [
    "rng = np.random.default_rng(seed=42)\n",
    "P = rng.random(size=(X.shape[1], X.shape[1]))\n",
    "display(P)\n",
    "display(P.shape)"
   ]
  },
  {
   "cell_type": "markdown",
   "metadata": {},
   "source": [
    "Checking whether the matrix $P$ is invertible"
   ]
  },
  {
   "cell_type": "code",
   "execution_count": null,
   "metadata": {
    "ExecuteTime": {
     "end_time": "2022-02-13T09:08:01.704514Z",
     "start_time": "2022-02-13T09:08:01.687516Z"
    }
   },
   "outputs": [],
   "source": [
    "# printing the inversion matrix of P\n",
    "print('The inversion matrix of P')\n",
    "P_inverted = np.linalg.inv(P)\n",
    "print(P_inverted)"
   ]
  },
  {
   "cell_type": "markdown",
   "metadata": {},
   "source": [
    "It appears that $P$ is indeed invertible."
   ]
  },
  {
   "cell_type": "code",
   "execution_count": null,
   "metadata": {
    "ExecuteTime": {
     "end_time": "2022-02-13T09:08:57.461279Z",
     "start_time": "2022-02-13T09:08:57.440297Z"
    }
   },
   "outputs": [],
   "source": [
    "print('Multiplying the numerical features by the random matrix P\\n')\n",
    "X_mult = (X.dot(P))\n",
    "print(X_mult)\n",
    "X_mult.shape"
   ]
  },
  {
   "cell_type": "markdown",
   "metadata": {},
   "source": [
    "The age became a column with very high values, of 4 digits or more. The income, on the other hand, decreased, and now it's in the lower 4 digits numbers (perhaps not more than 20k) or lower."
   ]
  },
  {
   "cell_type": "markdown",
   "metadata": {},
   "source": [
    "Can we recover the original data from $X'$ if we know $P$? Try to check that with calculations by moving $P$ from the right side of the formula above to the left one. The rules of matrix multiplcation are really helpful here.<br><br>\n",
    "$$\n",
    "X'\\times(invertedP) = X\n",
    "$$"
   ]
  },
  {
   "cell_type": "code",
   "execution_count": null,
   "metadata": {
    "ExecuteTime": {
     "end_time": "2021-11-03T19:41:13.309600Z",
     "start_time": "2021-11-03T19:41:13.295154Z"
    }
   },
   "outputs": [],
   "source": [
    "recovered = X_mult.dot(P_inverted)\n",
    "print(\"Recovering the original X' by multiplying X by the inversion of P\")\n",
    "recovered"
   ]
  },
  {
   "cell_type": "code",
   "execution_count": null,
   "metadata": {
    "ExecuteTime": {
     "end_time": "2021-11-03T19:41:20.710824Z",
     "start_time": "2021-11-03T19:41:20.695929Z"
    }
   },
   "outputs": [],
   "source": [
    "print('The original data')\n",
    "display(X[50:56])\n",
    "print()\n",
    "print('The transformed data')\n",
    "display(X_mult[50:56])\n",
    "print()\n",
    "print('The reveresed (recovered) data')\n",
    "display(recovered[50:56])"
   ]
  },
  {
   "cell_type": "markdown",
   "metadata": {},
   "source": [
    "Some values are not exactly the same as they are in the original data. The only changes are from 0.00e+00 in the original data, to 3.63797881e-12 in the recovered data, in three places. Both number are very small and very close to zero. All the values in both data sets are around 0 and 1. After converting the original dataframe to numpy, these are the values that we got."
   ]
  },
  {
   "cell_type": "markdown",
   "metadata": {},
   "source": [
    "#### Logical Proof That Data Obfuscation Can Work with LinearRegression"
   ]
  },
  {
   "cell_type": "markdown",
   "metadata": {},
   "source": [
    "Following is an analytical proof that the given obfuscation method will not affect the predictions of the linear regression model we have in hand."
   ]
  },
  {
   "cell_type": "markdown",
   "metadata": {},
   "source": [
    "The data is obfuscated and there is $X \\times P$ instead of just $X$ now. Consequently, there are other weights $w_P$ as<br><br>\n",
    "$$\n",
    "w = (X^T X)^{-1} X^T y \\quad \\Rightarrow \\quad w_P = [(XP)^T XP]^{-1} (XP)^T y\n",
    "$$\n",
    "<br>Dealing with the right side: transposition:<br>\n",
    "$$\n",
    "w_P = [P^TX^T XP]^{-1} P^TX^T y\n",
    "$$\n",
    "<br>Inversion:<br>\n",
    "$$\n",
    "w_P = (P)^{-1}(X^TX)^{-1} (P^T)^{-1} P^T X^T y\n",
    "$$\n",
    "<br>Identity:<br>\n",
    "$$\n",
    "w_P = (P)^{-1}(X^TX)^{-1} I X^T y\n",
    "$$\n",
    "<br>Removing the $I$ due to its redundancy:<br>\n",
    "$$\n",
    "w_P = (P)^{-1}(X^TX)^{-1} X^T y\n",
    "$$\n",
    "<br>Replacing the part equal to $w$ in the $w_P$ formula:<br>\n",
    "$$\n",
    "w_P = (P)^{-1} w\n",
    "$$\n",
    "<br><b>How would $w$ and $w_P$ be linked if you simplify the formula for $w_P$ above?</b> <br>\n",
    "The two formulas are similar, and the only difference between them is that $w_P$ includes the inverted P ($(P)^{-1}$).<br><br>"
   ]
  },
  {
   "cell_type": "markdown",
   "metadata": {},
   "source": [
    "<b>What would be predicted values with $w_P$? </b><br>\n",
    "We begin with the following formula:\n",
    "$$\n",
    "\\hat{y_p} = XPw_p\n",
    "$$\n",
    "<br>Replacing $w_P$ with $(P)^{-1}w$:<br>\n",
    "$$\n",
    "\\hat{y_p} = XP (P)^{-1} w\n",
    "$$\n",
    "<br>Identity:<br>\n",
    "$$\n",
    "\\hat{y_p} = X I w\n",
    "$$\n",
    "<br>Removing the $I$ due to its redundancy:\n",
    "$$\n",
    "\\hat{y_p} = X w\n",
    "$$\n",
    "<br>Which is equal to:<br>\n",
    "$$\n",
    "y = X w\n",
    "$$\n",
    "\n",
    "This means that to get the prediction (${y_p}$), we apply the weight $w$ to the original $X$. The P matrix does not change the predictions."
   ]
  },
  {
   "cell_type": "markdown",
   "metadata": {},
   "source": [
    "<b>What does that mean for the quality of linear regression if you measure it with RMSE?</b><br>\n",
    "It does not impact the RMSE, since the RMSE takes the target and the predictions array, and we saw that the predictions don't change and the target was not touched.<br><br>"
   ]
  },
  {
   "cell_type": "markdown",
   "metadata": {},
   "source": [
    "#### Test Linear Regression With Data Obfuscation"
   ]
  },
  {
   "cell_type": "markdown",
   "metadata": {},
   "source": [
    "<b>Create a square matrix $P$ of random numbers</b>"
   ]
  },
  {
   "cell_type": "code",
   "execution_count": null,
   "metadata": {
    "ExecuteTime": {
     "end_time": "2021-11-03T19:45:00.737794Z",
     "start_time": "2021-11-03T19:45:00.724271Z"
    }
   },
   "outputs": [],
   "source": [
    "rng = np.random.default_rng(seed=121)\n",
    "P2 = rng.random(size=(X.shape[1], X.shape[1]))\n",
    "display(P2)\n",
    "display(P2.shape)"
   ]
  },
  {
   "cell_type": "markdown",
   "metadata": {},
   "source": [
    "<b>Check that it is invertible</b>"
   ]
  },
  {
   "cell_type": "code",
   "execution_count": null,
   "metadata": {
    "ExecuteTime": {
     "end_time": "2021-11-03T19:45:01.926098Z",
     "start_time": "2021-11-03T19:45:01.906486Z"
    }
   },
   "outputs": [],
   "source": [
    "# is P invertible?\n",
    "P2_inverted = np.linalg.inv(P2)\n",
    "\n",
    "print(P2_inverted)"
   ]
  },
  {
   "cell_type": "markdown",
   "metadata": {},
   "source": [
    "The new P2 matrix is invertible.<br><br>\n",
    "<b>Use the class we created prevously</b>"
   ]
  },
  {
   "cell_type": "code",
   "execution_count": null,
   "metadata": {
    "ExecuteTime": {
     "end_time": "2022-02-13T09:14:33.598051Z",
     "start_time": "2022-02-13T09:14:33.572080Z"
    }
   },
   "outputs": [],
   "source": [
    "# create new features XP\n",
    "print('The new features XP data set')\n",
    "XP = pd.DataFrame(X.dot(P))\n",
    "XP.columns =['age', 'gender', 'income', 'family_members']\n",
    "XP.head()"
   ]
  },
  {
   "cell_type": "code",
   "execution_count": null,
   "metadata": {
    "ExecuteTime": {
     "end_time": "2022-02-13T09:14:34.128266Z",
     "start_time": "2022-02-13T09:14:34.109315Z"
    }
   },
   "outputs": [],
   "source": [
    "XP = XP[['age', 'gender', 'income', 'family_members']].to_numpy()\n",
    "y = df['insurance_benefits'].to_numpy()\n",
    "\n",
    "X_train, X_test, y_train, y_test = train_test_split(XP, y, test_size=0.3, random_state=12345)\n",
    "\n",
    "lr = MyLinearRegression()\n",
    "\n",
    "lr.fit(X_train, y_train)\n",
    "print(lr.weights)\n",
    "\n",
    "y_test_pred = lr.predict(X_test)\n",
    "eval_regressor(y_test, y_test_pred)"
   ]
  },
  {
   "cell_type": "markdown",
   "metadata": {},
   "source": [
    "<b>Compare to the original results we got in step 3</b>"
   ]
  },
  {
   "cell_type": "code",
   "execution_count": null,
   "metadata": {
    "ExecuteTime": {
     "end_time": "2022-02-13T09:14:47.193388Z",
     "start_time": "2022-02-13T09:14:47.173425Z"
    },
    "scrolled": true
   },
   "outputs": [],
   "source": [
    "# original results from step 3\n",
    "X = df[['age', 'gender', 'income', 'family_members']].to_numpy()\n",
    "y = df['insurance_benefits'].to_numpy()\n",
    "\n",
    "X_train, X_test, y_train, y_test = train_test_split(X, y, test_size=0.3, random_state=12345)\n",
    "\n",
    "lr = MyLinearRegression()\n",
    "\n",
    "lr.fit(X_train, y_train)\n",
    "display(lr.weights)\n",
    "\n",
    "y_test_pred = lr.predict(X_test)\n",
    "eval_regressor(y_test, y_test_pred)"
   ]
  },
  {
   "cell_type": "markdown",
   "metadata": {},
   "source": [
    "# Conclusions<a class=\"anchor\" id=\"6\"></a>"
   ]
  },
  {
   "cell_type": "markdown",
   "metadata": {},
   "source": [
    "<b>Task 1</b><br>\n",
    "Finding customers who are similar to a given customer.\n",
    "\n",
    "- We saw the differences between the two distance metrics (euclidean and manhattan), and between the scaled and unscaled data.<br>\n",
    "- We saw that for scaled vs. unscaled data, the similarity was in a different feature (in the scaled: gender, family members; in the unscaled: income).\n",
    "\n",
    "<b>Task 2</b><br>\n",
    "Checking how likely is a new customer to receive an insurance benefit, and can a prediction model do better than a dummy model.<br>\n",
    "- Comparing the f1 scores, the dummy model gave the best score 0f 0.2, whereas the prediction model had a score of 0.6 (for unscaled data) and 0.97 (for scaled data).<br>\n",
    "- We saw that in the KNN model, the bigger k is the lower the f1 sore is.\n",
    "\n",
    "<b>Task 3</b><br>\n",
    "Checking how many insurance benefits is a new customer likely to receive (using a linear regression model).<br>\n",
    "- We saw that the scaled and unscaled data both got the same sf1 scores in the LR model.\n",
    "\n",
    "<b>Task 4</b><br>\n",
    "Data Obfuscation.\n",
    "- We checked whether obfuscation is reversible, and we discovered that it is. When we recovered the original data from the obfuscated data, we got the same results.<br>\n",
    "- We checked whether the obfustcation impacts the predictions of the LR model, and we discovered that RMSE and R2 scores for both sets of data were the same.<br>"
   ]
  },
  {
   "cell_type": "markdown",
   "metadata": {},
   "source": [
    "#### Appendix: Properties of Matrices\n",
    "Matrices have many properties in Linear Algebra. A few of them are listed here which can help with the analytical proof in this project.<br>\n",
    "\n",
    "<table>\n",
    "<tr>\n",
    "<td>Distributivity</td><td>$A(B+C)=AB+AC$</td>\n",
    "</tr>\n",
    "<tr>\n",
    "<td>Non-commutativity</td><td>$AB \\neq BA$</td>\n",
    "</tr>\n",
    "<tr>\n",
    "<td>Associative property of multiplication</td><td>$(AB)C = A(BC)$</td>\n",
    "</tr>\n",
    "<tr>\n",
    "<td>Multiplicative identity property</td><td>$IA = AI = A$</td>\n",
    "</tr>\n",
    "<tr>\n",
    "<td></td><td>$A^{-1}A = AA^{-1} = I$\n",
    "</td>\n",
    "</tr>    \n",
    "<tr>\n",
    "<td></td><td>$(AB)^{-1} = B^{-1}A^{-1}$</td>\n",
    "</tr>    \n",
    "<tr>\n",
    "<td>Reversivity of the transpose of a product of matrices,</td><td>$(AB)^T = B^TA^T$</td>\n",
    "</tr>    \n",
    "</table>"
   ]
  },
  {
   "cell_type": "code",
   "execution_count": null,
   "metadata": {},
   "outputs": [],
   "source": []
  }
 ],
 "metadata": {
  "ExecuteTimeLog": [
   {
    "duration": 301,
    "start_time": "2021-11-01T09:57:48.590Z"
   },
   {
    "duration": 9733,
    "start_time": "2021-11-01T09:57:53.234Z"
   },
   {
    "duration": 1502,
    "start_time": "2021-11-01T09:58:02.970Z"
   },
   {
    "duration": 18,
    "start_time": "2021-11-01T09:58:04.475Z"
   },
   {
    "duration": 9,
    "start_time": "2021-11-01T09:58:04.495Z"
   },
   {
    "duration": 32,
    "start_time": "2021-11-01T09:58:04.506Z"
   },
   {
    "duration": 9,
    "start_time": "2021-11-01T09:58:04.540Z"
   },
   {
    "duration": 6,
    "start_time": "2021-11-01T09:58:04.551Z"
   },
   {
    "duration": 6,
    "start_time": "2021-11-01T09:58:04.560Z"
   },
   {
    "duration": 5,
    "start_time": "2021-11-01T09:58:04.568Z"
   },
   {
    "duration": 8636,
    "start_time": "2021-11-01T09:58:04.575Z"
   },
   {
    "duration": 15,
    "start_time": "2021-11-01T09:58:13.214Z"
   },
   {
    "duration": 86,
    "start_time": "2021-11-01T09:58:13.232Z"
   },
   {
    "duration": 844,
    "start_time": "2021-11-01T09:58:12.477Z"
   },
   {
    "duration": 765,
    "start_time": "2021-11-01T09:58:12.557Z"
   },
   {
    "duration": 763,
    "start_time": "2021-11-01T09:58:12.561Z"
   },
   {
    "duration": 763,
    "start_time": "2021-11-01T09:58:12.563Z"
   },
   {
    "duration": 763,
    "start_time": "2021-11-01T09:58:12.566Z"
   },
   {
    "duration": 763,
    "start_time": "2021-11-01T09:58:12.568Z"
   },
   {
    "duration": 763,
    "start_time": "2021-11-01T09:58:12.570Z"
   },
   {
    "duration": 763,
    "start_time": "2021-11-01T09:58:12.572Z"
   },
   {
    "duration": 763,
    "start_time": "2021-11-01T09:58:12.575Z"
   },
   {
    "duration": 764,
    "start_time": "2021-11-01T09:58:12.576Z"
   },
   {
    "duration": 764,
    "start_time": "2021-11-01T09:58:12.578Z"
   },
   {
    "duration": 764,
    "start_time": "2021-11-01T09:58:12.580Z"
   },
   {
    "duration": 764,
    "start_time": "2021-11-01T09:58:12.582Z"
   },
   {
    "duration": 9,
    "start_time": "2021-11-01T09:58:15.588Z"
   },
   {
    "duration": 33,
    "start_time": "2021-11-01T09:58:52.896Z"
   },
   {
    "duration": 4330,
    "start_time": "2021-11-01T10:04:23.537Z"
   },
   {
    "duration": 316,
    "start_time": "2021-11-01T10:06:48.099Z"
   },
   {
    "duration": 235,
    "start_time": "2021-11-01T10:06:53.586Z"
   },
   {
    "duration": 13,
    "start_time": "2021-11-01T10:06:56.486Z"
   },
   {
    "duration": 8,
    "start_time": "2021-11-01T10:07:19.415Z"
   },
   {
    "duration": 7,
    "start_time": "2021-11-01T10:08:07.581Z"
   },
   {
    "duration": 75,
    "start_time": "2021-11-01T10:29:43.385Z"
   },
   {
    "duration": 243,
    "start_time": "2021-11-01T10:33:20.909Z"
   },
   {
    "duration": 8,
    "start_time": "2021-11-01T10:33:49.537Z"
   },
   {
    "duration": 487,
    "start_time": "2021-11-01T10:33:57.397Z"
   },
   {
    "duration": 6,
    "start_time": "2021-11-01T10:37:47.398Z"
   },
   {
    "duration": 15,
    "start_time": "2021-11-01T10:48:08.695Z"
   },
   {
    "duration": 13,
    "start_time": "2021-11-01T10:48:09.105Z"
   },
   {
    "duration": 1299,
    "start_time": "2021-11-01T10:51:35.315Z"
   },
   {
    "duration": 3648,
    "start_time": "2021-11-01T10:51:46.273Z"
   },
   {
    "duration": 5,
    "start_time": "2021-11-01T10:51:49.924Z"
   },
   {
    "duration": 31,
    "start_time": "2021-11-01T10:51:49.931Z"
   },
   {
    "duration": 22,
    "start_time": "2021-11-01T10:51:49.965Z"
   },
   {
    "duration": 33,
    "start_time": "2021-11-01T10:51:49.989Z"
   },
   {
    "duration": 21,
    "start_time": "2021-11-01T10:51:50.025Z"
   },
   {
    "duration": 13,
    "start_time": "2021-11-01T10:51:50.049Z"
   },
   {
    "duration": 18,
    "start_time": "2021-11-01T10:51:50.064Z"
   },
   {
    "duration": 51,
    "start_time": "2021-11-01T10:51:50.086Z"
   },
   {
    "duration": 4143,
    "start_time": "2021-11-01T10:51:50.141Z"
   },
   {
    "duration": 8,
    "start_time": "2021-11-01T10:51:54.287Z"
   },
   {
    "duration": 544,
    "start_time": "2021-11-01T10:51:54.297Z"
   },
   {
    "duration": 4,
    "start_time": "2021-11-01T10:51:54.843Z"
   },
   {
    "duration": 21,
    "start_time": "2021-11-01T10:51:54.849Z"
   },
   {
    "duration": 1299,
    "start_time": "2021-11-01T10:51:54.873Z"
   },
   {
    "duration": 931,
    "start_time": "2021-11-01T10:51:55.244Z"
   },
   {
    "duration": 834,
    "start_time": "2021-11-01T10:51:55.342Z"
   },
   {
    "duration": 829,
    "start_time": "2021-11-01T10:51:55.348Z"
   },
   {
    "duration": 821,
    "start_time": "2021-11-01T10:51:55.358Z"
   },
   {
    "duration": 817,
    "start_time": "2021-11-01T10:51:55.363Z"
   },
   {
    "duration": 814,
    "start_time": "2021-11-01T10:51:55.368Z"
   },
   {
    "duration": 806,
    "start_time": "2021-11-01T10:51:55.377Z"
   },
   {
    "duration": 804,
    "start_time": "2021-11-01T10:51:55.381Z"
   },
   {
    "duration": 794,
    "start_time": "2021-11-01T10:51:55.392Z"
   },
   {
    "duration": 791,
    "start_time": "2021-11-01T10:51:55.396Z"
   },
   {
    "duration": 788,
    "start_time": "2021-11-01T10:51:55.401Z"
   },
   {
    "duration": 780,
    "start_time": "2021-11-01T10:51:55.410Z"
   },
   {
    "duration": 779,
    "start_time": "2021-11-01T10:51:55.413Z"
   },
   {
    "duration": 5,
    "start_time": "2021-11-01T10:52:40.377Z"
   },
   {
    "duration": 6,
    "start_time": "2021-11-01T10:52:46.272Z"
   },
   {
    "duration": 40,
    "start_time": "2021-11-01T10:52:47.066Z"
   },
   {
    "duration": 40,
    "start_time": "2021-11-01T10:54:43.265Z"
   },
   {
    "duration": 43,
    "start_time": "2021-11-01T11:00:30.945Z"
   },
   {
    "duration": 91,
    "start_time": "2021-11-01T11:01:45.924Z"
   },
   {
    "duration": 6,
    "start_time": "2021-11-01T11:02:15.986Z"
   },
   {
    "duration": 41,
    "start_time": "2021-11-01T11:02:17.330Z"
   },
   {
    "duration": 6,
    "start_time": "2021-11-01T11:03:01.500Z"
   },
   {
    "duration": 42,
    "start_time": "2021-11-01T11:03:01.959Z"
   },
   {
    "duration": 6,
    "start_time": "2021-11-01T11:03:16.666Z"
   },
   {
    "duration": 49,
    "start_time": "2021-11-01T11:03:31.777Z"
   },
   {
    "duration": 6,
    "start_time": "2021-11-01T11:03:40.993Z"
   },
   {
    "duration": 43,
    "start_time": "2021-11-01T11:03:41.285Z"
   },
   {
    "duration": 5605,
    "start_time": "2021-11-01T11:04:20.712Z"
   },
   {
    "duration": 252,
    "start_time": "2021-11-01T11:04:37.802Z"
   },
   {
    "duration": 41,
    "start_time": "2021-11-01T11:04:44.734Z"
   },
   {
    "duration": 269,
    "start_time": "2021-11-01T11:06:57.749Z"
   },
   {
    "duration": 839,
    "start_time": "2021-11-01T11:07:22.139Z"
   },
   {
    "duration": 41,
    "start_time": "2021-11-01T11:07:37.175Z"
   },
   {
    "duration": 42,
    "start_time": "2021-11-01T11:07:41.306Z"
   },
   {
    "duration": 46,
    "start_time": "2021-11-01T11:31:42.713Z"
   },
   {
    "duration": 43,
    "start_time": "2021-11-01T11:32:03.770Z"
   },
   {
    "duration": 46,
    "start_time": "2021-11-01T11:32:11.087Z"
   },
   {
    "duration": 45,
    "start_time": "2021-11-01T11:32:16.680Z"
   },
   {
    "duration": 36,
    "start_time": "2021-11-01T11:32:24.093Z"
   },
   {
    "duration": 47,
    "start_time": "2021-11-01T11:32:40.915Z"
   },
   {
    "duration": 41,
    "start_time": "2021-11-01T11:33:22.754Z"
   },
   {
    "duration": 12,
    "start_time": "2021-11-01T11:44:41.479Z"
   },
   {
    "duration": 11,
    "start_time": "2021-11-01T12:02:39.859Z"
   },
   {
    "duration": 238,
    "start_time": "2021-11-01T12:02:52.933Z"
   },
   {
    "duration": 271,
    "start_time": "2021-11-01T12:03:49.272Z"
   },
   {
    "duration": 268,
    "start_time": "2021-11-01T12:05:08.296Z"
   },
   {
    "duration": 12,
    "start_time": "2021-11-01T12:05:22.006Z"
   },
   {
    "duration": 12,
    "start_time": "2021-11-01T12:05:58.792Z"
   },
   {
    "duration": 232,
    "start_time": "2021-11-01T12:06:46.745Z"
   },
   {
    "duration": 14,
    "start_time": "2021-11-01T12:07:07.420Z"
   },
   {
    "duration": 8,
    "start_time": "2021-11-01T12:10:07.253Z"
   },
   {
    "duration": 11,
    "start_time": "2021-11-01T12:19:33.037Z"
   },
   {
    "duration": 7,
    "start_time": "2021-11-01T12:20:06.832Z"
   },
   {
    "duration": 312,
    "start_time": "2021-11-01T12:20:13.701Z"
   },
   {
    "duration": 8,
    "start_time": "2021-11-01T12:20:23.622Z"
   },
   {
    "duration": 9,
    "start_time": "2021-11-01T12:20:32.128Z"
   },
   {
    "duration": 13,
    "start_time": "2021-11-01T12:21:47.005Z"
   },
   {
    "duration": 9,
    "start_time": "2021-11-01T12:21:56.587Z"
   },
   {
    "duration": 14,
    "start_time": "2021-11-01T12:22:03.635Z"
   },
   {
    "duration": 9,
    "start_time": "2021-11-01T12:22:45.009Z"
   },
   {
    "duration": 11,
    "start_time": "2021-11-01T12:22:45.579Z"
   },
   {
    "duration": 3,
    "start_time": "2021-11-01T12:22:53.788Z"
   },
   {
    "duration": 10,
    "start_time": "2021-11-01T12:22:54.374Z"
   },
   {
    "duration": 7,
    "start_time": "2021-11-01T12:23:01.834Z"
   },
   {
    "duration": 9,
    "start_time": "2021-11-01T12:23:03.245Z"
   },
   {
    "duration": 8,
    "start_time": "2021-11-01T12:23:21.752Z"
   },
   {
    "duration": 18,
    "start_time": "2021-11-01T12:23:23.280Z"
   },
   {
    "duration": 7,
    "start_time": "2021-11-01T12:23:30.300Z"
   },
   {
    "duration": 10,
    "start_time": "2021-11-01T12:23:32.241Z"
   },
   {
    "duration": 247,
    "start_time": "2021-11-01T12:25:27.043Z"
   },
   {
    "duration": 5,
    "start_time": "2021-11-01T12:25:55.274Z"
   },
   {
    "duration": 5,
    "start_time": "2021-11-01T12:25:55.604Z"
   },
   {
    "duration": 510,
    "start_time": "2021-11-01T12:25:56.003Z"
   },
   {
    "duration": 19,
    "start_time": "2021-11-01T12:35:23.461Z"
   },
   {
    "duration": 236,
    "start_time": "2021-11-01T12:35:35.053Z"
   },
   {
    "duration": 16,
    "start_time": "2021-11-01T12:35:38.974Z"
   },
   {
    "duration": 12,
    "start_time": "2021-11-01T12:35:51.002Z"
   },
   {
    "duration": 10,
    "start_time": "2021-11-01T12:36:56.790Z"
   },
   {
    "duration": 10,
    "start_time": "2021-11-01T12:37:01.997Z"
   },
   {
    "duration": 8,
    "start_time": "2021-11-01T12:37:09.986Z"
   },
   {
    "duration": 10,
    "start_time": "2021-11-01T12:37:10.492Z"
   },
   {
    "duration": 7,
    "start_time": "2021-11-01T12:37:26.783Z"
   },
   {
    "duration": 10,
    "start_time": "2021-11-01T12:37:28.171Z"
   },
   {
    "duration": 5,
    "start_time": "2021-11-01T12:37:31.921Z"
   },
   {
    "duration": 4,
    "start_time": "2021-11-01T12:37:32.541Z"
   },
   {
    "duration": 98,
    "start_time": "2021-11-01T12:37:34.755Z"
   },
   {
    "duration": 465,
    "start_time": "2021-11-01T12:38:01.332Z"
   },
   {
    "duration": 485,
    "start_time": "2021-11-01T12:40:17.803Z"
   },
   {
    "duration": 91,
    "start_time": "2021-11-01T12:40:39.418Z"
   },
   {
    "duration": 260,
    "start_time": "2021-11-01T12:48:09.887Z"
   },
   {
    "duration": 469,
    "start_time": "2021-11-01T12:49:04.642Z"
   },
   {
    "duration": 6,
    "start_time": "2021-11-01T12:49:47.831Z"
   },
   {
    "duration": 4,
    "start_time": "2021-11-03T14:33:06.489Z"
   },
   {
    "duration": 1326,
    "start_time": "2021-11-03T14:33:06.494Z"
   },
   {
    "duration": 19,
    "start_time": "2021-11-03T14:33:07.823Z"
   },
   {
    "duration": 4,
    "start_time": "2021-11-03T14:33:07.844Z"
   },
   {
    "duration": 14,
    "start_time": "2021-11-03T14:33:07.849Z"
   },
   {
    "duration": 7,
    "start_time": "2021-11-03T14:33:07.865Z"
   },
   {
    "duration": 5,
    "start_time": "2021-11-03T14:33:07.874Z"
   },
   {
    "duration": 51,
    "start_time": "2021-11-03T14:33:07.882Z"
   },
   {
    "duration": 1153,
    "start_time": "2021-11-03T14:33:07.935Z"
   },
   {
    "duration": 11,
    "start_time": "2021-11-03T14:33:09.089Z"
   },
   {
    "duration": 358,
    "start_time": "2021-11-03T14:33:09.111Z"
   },
   {
    "duration": 3,
    "start_time": "2021-11-03T14:33:09.471Z"
   },
   {
    "duration": 25,
    "start_time": "2021-11-03T14:33:09.476Z"
   },
   {
    "duration": 120,
    "start_time": "2021-11-03T14:33:09.502Z"
   },
   {
    "duration": 11,
    "start_time": "2021-11-03T14:33:09.624Z"
   },
   {
    "duration": 12,
    "start_time": "2021-11-03T14:33:09.637Z"
   },
   {
    "duration": 82,
    "start_time": "2021-11-03T14:33:09.651Z"
   },
   {
    "duration": 9,
    "start_time": "2021-11-03T14:33:09.735Z"
   },
   {
    "duration": 13,
    "start_time": "2021-11-03T14:33:09.746Z"
   },
   {
    "duration": 9,
    "start_time": "2021-11-03T14:33:09.761Z"
   },
   {
    "duration": 4,
    "start_time": "2021-11-03T14:33:09.772Z"
   },
   {
    "duration": 28,
    "start_time": "2021-11-03T14:33:09.778Z"
   },
   {
    "duration": 812,
    "start_time": "2021-11-03T14:33:09.810Z"
   },
   {
    "duration": 1185,
    "start_time": "2021-11-03T14:33:09.439Z"
   },
   {
    "duration": 1182,
    "start_time": "2021-11-03T14:33:09.444Z"
   },
   {
    "duration": 1179,
    "start_time": "2021-11-03T14:33:09.448Z"
   },
   {
    "duration": 1176,
    "start_time": "2021-11-03T14:33:09.452Z"
   },
   {
    "duration": 1175,
    "start_time": "2021-11-03T14:33:09.454Z"
   },
   {
    "duration": 1171,
    "start_time": "2021-11-03T14:33:09.459Z"
   },
   {
    "duration": 1169,
    "start_time": "2021-11-03T14:33:09.462Z"
   },
   {
    "duration": 1167,
    "start_time": "2021-11-03T14:33:09.465Z"
   },
   {
    "duration": 1166,
    "start_time": "2021-11-03T14:33:09.468Z"
   },
   {
    "duration": 1164,
    "start_time": "2021-11-03T14:33:09.471Z"
   },
   {
    "duration": 1163,
    "start_time": "2021-11-03T14:33:09.473Z"
   },
   {
    "duration": 1162,
    "start_time": "2021-11-03T14:33:09.476Z"
   },
   {
    "duration": 1160,
    "start_time": "2021-11-03T14:33:09.479Z"
   },
   {
    "duration": 1159,
    "start_time": "2021-11-03T14:33:09.481Z"
   },
   {
    "duration": 1157,
    "start_time": "2021-11-03T14:33:09.484Z"
   },
   {
    "duration": 1155,
    "start_time": "2021-11-03T14:33:09.487Z"
   },
   {
    "duration": 1116,
    "start_time": "2021-11-03T14:33:09.527Z"
   },
   {
    "duration": 1115,
    "start_time": "2021-11-03T14:33:09.530Z"
   },
   {
    "duration": 1113,
    "start_time": "2021-11-03T14:33:09.533Z"
   },
   {
    "duration": 1111,
    "start_time": "2021-11-03T14:33:09.536Z"
   },
   {
    "duration": 1110,
    "start_time": "2021-11-03T14:33:09.538Z"
   },
   {
    "duration": 1108,
    "start_time": "2021-11-03T14:33:09.541Z"
   },
   {
    "duration": 10535,
    "start_time": "2021-11-03T14:33:53.489Z"
   },
   {
    "duration": 4,
    "start_time": "2021-11-03T14:34:04.026Z"
   },
   {
    "duration": 31,
    "start_time": "2021-11-03T14:34:04.033Z"
   },
   {
    "duration": 12,
    "start_time": "2021-11-03T14:34:04.066Z"
   },
   {
    "duration": 29,
    "start_time": "2021-11-03T14:34:04.080Z"
   },
   {
    "duration": 18,
    "start_time": "2021-11-03T14:34:04.111Z"
   },
   {
    "duration": 16,
    "start_time": "2021-11-03T14:34:04.131Z"
   },
   {
    "duration": 26,
    "start_time": "2021-11-03T14:34:04.149Z"
   },
   {
    "duration": 1179,
    "start_time": "2021-11-03T14:34:04.177Z"
   },
   {
    "duration": 6,
    "start_time": "2021-11-03T14:34:05.357Z"
   },
   {
    "duration": 435,
    "start_time": "2021-11-03T14:34:05.365Z"
   },
   {
    "duration": 3,
    "start_time": "2021-11-03T14:34:05.802Z"
   },
   {
    "duration": 18,
    "start_time": "2021-11-03T14:34:05.807Z"
   },
   {
    "duration": 35,
    "start_time": "2021-11-03T14:34:05.827Z"
   },
   {
    "duration": 13,
    "start_time": "2021-11-03T14:34:05.863Z"
   },
   {
    "duration": 16,
    "start_time": "2021-11-03T14:34:05.878Z"
   },
   {
    "duration": 50,
    "start_time": "2021-11-03T14:34:05.896Z"
   },
   {
    "duration": 8,
    "start_time": "2021-11-03T14:34:05.948Z"
   },
   {
    "duration": 26,
    "start_time": "2021-11-03T14:34:05.957Z"
   },
   {
    "duration": 32,
    "start_time": "2021-11-03T14:34:05.984Z"
   },
   {
    "duration": 20,
    "start_time": "2021-11-03T14:34:06.018Z"
   },
   {
    "duration": 16,
    "start_time": "2021-11-03T14:34:06.040Z"
   },
   {
    "duration": 712,
    "start_time": "2021-11-03T14:34:06.059Z"
   },
   {
    "duration": 1128,
    "start_time": "2021-11-03T14:34:05.646Z"
   },
   {
    "duration": 1127,
    "start_time": "2021-11-03T14:34:05.649Z"
   },
   {
    "duration": 1126,
    "start_time": "2021-11-03T14:34:05.652Z"
   },
   {
    "duration": 1124,
    "start_time": "2021-11-03T14:34:05.655Z"
   },
   {
    "duration": 1123,
    "start_time": "2021-11-03T14:34:05.658Z"
   },
   {
    "duration": 1121,
    "start_time": "2021-11-03T14:34:05.661Z"
   },
   {
    "duration": 1121,
    "start_time": "2021-11-03T14:34:05.663Z"
   },
   {
    "duration": 1118,
    "start_time": "2021-11-03T14:34:05.667Z"
   },
   {
    "duration": 1118,
    "start_time": "2021-11-03T14:34:05.669Z"
   },
   {
    "duration": 1116,
    "start_time": "2021-11-03T14:34:05.672Z"
   },
   {
    "duration": 1115,
    "start_time": "2021-11-03T14:34:05.675Z"
   },
   {
    "duration": 1115,
    "start_time": "2021-11-03T14:34:05.677Z"
   },
   {
    "duration": 1113,
    "start_time": "2021-11-03T14:34:05.680Z"
   },
   {
    "duration": 1112,
    "start_time": "2021-11-03T14:34:05.683Z"
   },
   {
    "duration": 1111,
    "start_time": "2021-11-03T14:34:05.685Z"
   },
   {
    "duration": 1110,
    "start_time": "2021-11-03T14:34:05.688Z"
   },
   {
    "duration": 1108,
    "start_time": "2021-11-03T14:34:05.691Z"
   },
   {
    "duration": 1107,
    "start_time": "2021-11-03T14:34:05.694Z"
   },
   {
    "duration": 1106,
    "start_time": "2021-11-03T14:34:05.696Z"
   },
   {
    "duration": 1073,
    "start_time": "2021-11-03T14:34:05.732Z"
   },
   {
    "duration": 1062,
    "start_time": "2021-11-03T14:34:05.744Z"
   },
   {
    "duration": 1059,
    "start_time": "2021-11-03T14:34:05.748Z"
   },
   {
    "duration": 2977,
    "start_time": "2021-11-03T14:49:16.260Z"
   },
   {
    "duration": 1287,
    "start_time": "2021-11-03T14:49:19.239Z"
   },
   {
    "duration": 18,
    "start_time": "2021-11-03T14:49:20.528Z"
   },
   {
    "duration": 30,
    "start_time": "2021-11-03T14:49:20.548Z"
   },
   {
    "duration": 47,
    "start_time": "2021-11-03T14:49:20.579Z"
   },
   {
    "duration": 33,
    "start_time": "2021-11-03T14:49:20.628Z"
   },
   {
    "duration": 26,
    "start_time": "2021-11-03T14:49:20.663Z"
   },
   {
    "duration": 71,
    "start_time": "2021-11-03T14:49:20.691Z"
   },
   {
    "duration": 1290,
    "start_time": "2021-11-03T14:49:20.764Z"
   },
   {
    "duration": 10,
    "start_time": "2021-11-03T14:49:22.056Z"
   },
   {
    "duration": 518,
    "start_time": "2021-11-03T14:49:22.068Z"
   },
   {
    "duration": 3,
    "start_time": "2021-11-03T14:49:22.588Z"
   },
   {
    "duration": 47,
    "start_time": "2021-11-03T14:49:22.592Z"
   },
   {
    "duration": 78,
    "start_time": "2021-11-03T14:49:22.640Z"
   },
   {
    "duration": 16,
    "start_time": "2021-11-03T14:49:22.720Z"
   },
   {
    "duration": 50,
    "start_time": "2021-11-03T14:49:22.738Z"
   },
   {
    "duration": 71,
    "start_time": "2021-11-03T14:49:22.790Z"
   },
   {
    "duration": 19,
    "start_time": "2021-11-03T14:49:22.863Z"
   },
   {
    "duration": 35,
    "start_time": "2021-11-03T14:49:22.884Z"
   },
   {
    "duration": 29,
    "start_time": "2021-11-03T14:49:22.922Z"
   },
   {
    "duration": 9,
    "start_time": "2021-11-03T14:49:22.953Z"
   },
   {
    "duration": 36,
    "start_time": "2021-11-03T14:49:22.964Z"
   },
   {
    "duration": 78,
    "start_time": "2021-11-03T14:49:23.004Z"
   },
   {
    "duration": 28,
    "start_time": "2021-11-03T14:49:23.084Z"
   },
   {
    "duration": 42,
    "start_time": "2021-11-03T14:49:23.114Z"
   },
   {
    "duration": 40,
    "start_time": "2021-11-03T14:49:23.158Z"
   },
   {
    "duration": 579,
    "start_time": "2021-11-03T14:49:23.200Z"
   },
   {
    "duration": 630,
    "start_time": "2021-11-03T14:49:23.780Z"
   },
   {
    "duration": 7,
    "start_time": "2021-11-03T14:49:24.412Z"
   },
   {
    "duration": 40,
    "start_time": "2021-11-03T14:49:24.421Z"
   },
   {
    "duration": 38,
    "start_time": "2021-11-03T14:49:24.463Z"
   },
   {
    "duration": 106,
    "start_time": "2021-11-03T14:49:24.504Z"
   },
   {
    "duration": 109,
    "start_time": "2021-11-03T14:49:24.616Z"
   },
   {
    "duration": 113,
    "start_time": "2021-11-03T14:49:24.727Z"
   },
   {
    "duration": 75,
    "start_time": "2021-11-03T14:49:24.843Z"
   },
   {
    "duration": 17,
    "start_time": "2021-11-03T14:49:24.920Z"
   },
   {
    "duration": 43,
    "start_time": "2021-11-03T14:49:24.939Z"
   },
   {
    "duration": 128,
    "start_time": "2021-11-03T14:49:24.984Z"
   },
   {
    "duration": 13,
    "start_time": "2021-11-03T14:49:25.114Z"
   },
   {
    "duration": 48,
    "start_time": "2021-11-03T14:49:25.129Z"
   },
   {
    "duration": 45,
    "start_time": "2021-11-03T14:49:25.179Z"
   },
   {
    "duration": 48,
    "start_time": "2021-11-03T14:49:25.226Z"
   },
   {
    "duration": 52,
    "start_time": "2021-11-03T14:49:25.276Z"
   },
   {
    "duration": 87,
    "start_time": "2021-11-03T14:49:25.331Z"
   },
   {
    "duration": 196,
    "start_time": "2021-11-03T14:49:25.420Z"
   },
   {
    "duration": 3180,
    "start_time": "2021-11-03T14:58:06.789Z"
   },
   {
    "duration": 9872,
    "start_time": "2021-11-03T19:50:55.278Z"
   },
   {
    "duration": 1281,
    "start_time": "2021-11-03T19:51:05.152Z"
   },
   {
    "duration": 18,
    "start_time": "2021-11-03T19:51:06.435Z"
   },
   {
    "duration": 1062,
    "start_time": "2021-11-03T19:51:06.455Z"
   },
   {
    "duration": 1301,
    "start_time": "2021-11-03T19:51:07.519Z"
   },
   {
    "duration": 467,
    "start_time": "2021-11-03T19:51:08.822Z"
   },
   {
    "duration": 29,
    "start_time": "2021-11-03T19:51:09.291Z"
   },
   {
    "duration": 28,
    "start_time": "2021-11-03T19:51:09.323Z"
   },
   {
    "duration": 1262,
    "start_time": "2021-11-03T19:51:09.354Z"
   },
   {
    "duration": 12,
    "start_time": "2021-11-03T19:51:10.619Z"
   },
   {
    "duration": 523,
    "start_time": "2021-11-03T19:51:10.633Z"
   },
   {
    "duration": 7,
    "start_time": "2021-11-03T19:51:11.158Z"
   },
   {
    "duration": 12,
    "start_time": "2021-11-03T19:51:11.168Z"
   },
   {
    "duration": 62,
    "start_time": "2021-11-03T19:51:11.182Z"
   },
   {
    "duration": 11,
    "start_time": "2021-11-03T19:51:11.246Z"
   },
   {
    "duration": 23,
    "start_time": "2021-11-03T19:51:11.259Z"
   },
   {
    "duration": 49,
    "start_time": "2021-11-03T19:51:11.284Z"
   },
   {
    "duration": 7,
    "start_time": "2021-11-03T19:51:11.335Z"
   },
   {
    "duration": 18,
    "start_time": "2021-11-03T19:51:11.344Z"
   },
   {
    "duration": 6,
    "start_time": "2021-11-03T19:51:11.364Z"
   },
   {
    "duration": 12,
    "start_time": "2021-11-03T19:51:11.372Z"
   },
   {
    "duration": 26,
    "start_time": "2021-11-03T19:51:11.386Z"
   },
   {
    "duration": 60,
    "start_time": "2021-11-03T19:51:11.417Z"
   },
   {
    "duration": 5,
    "start_time": "2021-11-03T19:51:11.479Z"
   },
   {
    "duration": 34,
    "start_time": "2021-11-03T19:51:11.485Z"
   },
   {
    "duration": 28,
    "start_time": "2021-11-03T19:51:11.521Z"
   },
   {
    "duration": 580,
    "start_time": "2021-11-03T19:51:11.551Z"
   },
   {
    "duration": 645,
    "start_time": "2021-11-03T19:51:12.134Z"
   },
   {
    "duration": 5,
    "start_time": "2021-11-03T19:51:12.780Z"
   },
   {
    "duration": 8,
    "start_time": "2021-11-03T19:51:12.787Z"
   },
   {
    "duration": 18,
    "start_time": "2021-11-03T19:51:12.809Z"
   },
   {
    "duration": 79,
    "start_time": "2021-11-03T19:51:12.829Z"
   },
   {
    "duration": 10,
    "start_time": "2021-11-03T19:51:12.918Z"
   },
   {
    "duration": 80,
    "start_time": "2021-11-03T19:51:12.930Z"
   },
   {
    "duration": 95,
    "start_time": "2021-11-03T19:51:13.018Z"
   },
   {
    "duration": 9,
    "start_time": "2021-11-03T19:51:13.116Z"
   },
   {
    "duration": 10,
    "start_time": "2021-11-03T19:51:13.126Z"
   },
   {
    "duration": 74,
    "start_time": "2021-11-03T19:51:13.138Z"
   },
   {
    "duration": 9,
    "start_time": "2021-11-03T19:51:13.215Z"
   },
   {
    "duration": 97,
    "start_time": "2021-11-03T19:51:13.226Z"
   },
   {
    "duration": 7,
    "start_time": "2021-11-03T19:51:13.325Z"
   },
   {
    "duration": 5,
    "start_time": "2021-11-03T19:51:13.333Z"
   },
   {
    "duration": 78,
    "start_time": "2021-11-03T19:51:13.340Z"
   },
   {
    "duration": 93,
    "start_time": "2021-11-03T19:51:13.423Z"
   },
   {
    "duration": 103,
    "start_time": "2021-11-03T19:51:13.519Z"
   }
  ],
  "kernelspec": {
   "display_name": "Python 3",
   "language": "python",
   "name": "python3"
  },
  "language_info": {
   "codemirror_mode": {
    "name": "ipython",
    "version": 3
   },
   "file_extension": ".py",
   "mimetype": "text/x-python",
   "name": "python",
   "nbconvert_exporter": "python",
   "pygments_lexer": "ipython3",
   "version": "3.8.5"
  },
  "toc": {
   "base_numbering": 1,
   "nav_menu": {},
   "number_sections": true,
   "sideBar": true,
   "skip_h1_title": true,
   "title_cell": "Table of Contents",
   "title_sidebar": "Contents",
   "toc_cell": false,
   "toc_position": {},
   "toc_section_display": true,
   "toc_window_display": true
  }
 },
 "nbformat": 4,
 "nbformat_minor": 4
}
